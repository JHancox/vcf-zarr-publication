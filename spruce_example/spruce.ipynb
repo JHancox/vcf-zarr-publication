{
 "cells": [
  {
   "cell_type": "code",
   "execution_count": 1,
   "id": "47ce48d8-1106-4f83-b36e-81e8de9a34c5",
   "metadata": {},
   "outputs": [],
   "source": [
    "import glob\n",
    "import os\n",
    "import humanfriendly\n",
    "import pandas as pd\n",
    "from pathlib import Path\n",
    "from bio2zarr.vcf2zarr import vcz"
   ]
  },
  {
   "cell_type": "markdown",
   "id": "3a7e6c6c-3834-43b1-8e97-87eec9f0e4b3",
   "metadata": {},
   "source": [
    "#### Data sources"
   ]
  },
  {
   "cell_type": "code",
   "execution_count": 10,
   "id": "915fc1bc-2cf1-4b01-b65c-af9a9b00c6a1",
   "metadata": {},
   "outputs": [],
   "source": [
    "WORKDIR=Path(os.environ[\"WORKDIR\"])\n",
    "VCFDIR=Path(os.environ[\"VCFDIR\"])\n",
    "VCF_FILE_PATTERN=VCFDIR / \"PA_chr*.vcf.gz\"\n",
    "ICF_DIR=WORKDIR / \"results\" / \"icf\" / \"spruce.all.vcf.gz.icf\"\n",
    "ZARR_DIR=WORKDIR / \"results\" / \"vcz\" / \"spruce.all.vcf.gz.vcz\"\n",
    "ZARR_W_SCHEMA_DIR=WORKDIR / \"results\" / \"vcz\" / \"spruce.all.vcf.gz.json.vcz\""
   ]
  },
  {
   "cell_type": "markdown",
   "id": "778e2308-299e-4e0d-8a44-9adf8ccc0d97",
   "metadata": {},
   "source": [
    "#### VCF size and partitions"
   ]
  },
  {
   "cell_type": "code",
   "execution_count": 5,
   "id": "ce62775c-f00c-48bb-a533-5de2aa6f7820",
   "metadata": {},
   "outputs": [
    {
     "name": "stdout",
     "output_type": "stream",
     "text": [
      "Total compressed VCF: 7.63 TiB across 165 files\n"
     ]
    }
   ],
   "source": [
    "files = glob.glob(str(VCF_FILE_PATTERN))\n",
    "total_size = sum(os.path.getsize(file) for file in files)\n",
    "print(f\"Total compressed VCF: {humanfriendly.format_size(total_size, binary=True)} across {len(files)} files\")"
   ]
  },
  {
   "cell_type": "markdown",
   "id": "5a05128e-874f-4769-a9fc-94f91da48327",
   "metadata": {},
   "source": [
    "#### Inspect Zarr and ICF"
   ]
  },
  {
   "cell_type": "markdown",
   "id": "3e3d135f-b873-49bf-8259-958807c3d7b5",
   "metadata": {},
   "source": [
    "##### Zarr output without schema"
   ]
  },
  {
   "cell_type": "code",
   "execution_count": 12,
   "id": "7980a881-a55a-44d0-84a4-d1bab5ff9e59",
   "metadata": {},
   "outputs": [
    {
     "name": "stdout",
     "output_type": "stream",
     "text": [
      "CPU times: user 2min 21s, sys: 31min 54s, total: 34min 15s\n",
      "Wall time: 2h 26min 30s\n"
     ]
    }
   ],
   "source": [
    "%%time\n",
    "zarrvcf_inspec = vcz.inspect(ZARR_DIR)"
   ]
  },
  {
   "cell_type": "code",
   "execution_count": 14,
   "id": "cd551096-d0f0-432b-aa5f-2af795956a23",
   "metadata": {},
   "outputs": [],
   "source": [
    "zarrdf = pd.DataFrame(zarrvcf_inspec)"
   ]
  },
  {
   "cell_type": "code",
   "execution_count": 15,
   "id": "69dfc006-2a86-4708-9029-84725d7ac8c2",
   "metadata": {},
   "outputs": [],
   "source": [
    "zarrdf.to_csv(\"spruce_zarr_inspect.csv\", index=False)"
   ]
  },
  {
   "cell_type": "markdown",
   "id": "ae320be7-cb8f-47d4-ae4f-3f52a3de2009",
   "metadata": {},
   "source": [
    "##### Zarr output with schema"
   ]
  },
  {
   "cell_type": "code",
   "execution_count": 16,
   "id": "7ef159ce-6d5a-4cc2-9613-7f183d6ac47d",
   "metadata": {},
   "outputs": [
    {
     "name": "stdout",
     "output_type": "stream",
     "text": [
      "CPU times: user 2min 35s, sys: 36min 54s, total: 39min 29s\n",
      "Wall time: 2h 44min 9s\n"
     ]
    }
   ],
   "source": [
    "%%time\n",
    "zarrvcf_inspec = vcz.inspect(ZARR_W_SCHEMA_DIR)"
   ]
  },
  {
   "cell_type": "code",
   "execution_count": 17,
   "id": "4422fac6-2b5b-4d3e-9828-2f150c7d742d",
   "metadata": {},
   "outputs": [],
   "source": [
    "zarrdf = pd.DataFrame(zarrvcf_inspec)"
   ]
  },
  {
   "cell_type": "code",
   "execution_count": 18,
   "id": "1d121bc7-dcde-4999-9a69-e6af59dfb7fe",
   "metadata": {},
   "outputs": [],
   "source": [
    "zarrdf.to_csv(\"spruce_zarr_json_inspect.csv\", index=False)"
   ]
  },
  {
   "cell_type": "markdown",
   "id": "fb581eca-1b65-4512-89b9-79b0fe3006f8",
   "metadata": {},
   "source": [
    "##### ICF output"
   ]
  },
  {
   "cell_type": "code",
   "execution_count": 19,
   "id": "ffd419ac-fcc9-410a-9542-6759fd44cb82",
   "metadata": {},
   "outputs": [
    {
     "name": "stdout",
     "output_type": "stream",
     "text": [
      "CPU times: user 4.16 ms, sys: 5.47 ms, total: 9.63 ms\n",
      "Wall time: 55.9 ms\n"
     ]
    }
   ],
   "source": [
    "%%time\n",
    "icf_inspec = vcz.inspect(ICF_DIR)"
   ]
  },
  {
   "cell_type": "code",
   "execution_count": 21,
   "id": "f53a8f4c-c5be-400e-b3b2-5fadca016fe6",
   "metadata": {},
   "outputs": [],
   "source": [
    "icfdf = pd.DataFrame(icf_inspec)\n",
    "icfdf.to_csv(\"spruce_icf_inspect.csv\", index=False)"
   ]
  },
  {
   "cell_type": "markdown",
   "id": "f3aaf4a4-98eb-4edd-90e6-e66f29df4871",
   "metadata": {},
   "source": [
    "#### Count Zarr files"
   ]
  },
  {
   "cell_type": "code",
   "execution_count": 26,
   "id": "1dc06082-f240-4d6f-b157-ce4a2800e628",
   "metadata": {},
   "outputs": [
    {
     "name": "stdout",
     "output_type": "stream",
     "text": [
      "14980847\n"
     ]
    }
   ],
   "source": [
    "! find {ZARR_DIR} | wc -l"
   ]
  },
  {
   "cell_type": "code",
   "execution_count": 27,
   "id": "f4beeb36-0f54-4522-b51f-94c61e5c1fbf",
   "metadata": {},
   "outputs": [
    {
     "name": "stdout",
     "output_type": "stream",
     "text": [
      "16104404\n"
     ]
    }
   ],
   "source": [
    "! find {ZARR_W_SCHEMA_DIR} | wc -l"
   ]
  }
 ],
 "metadata": {
  "kernelspec": {
   "display_name": "Python 3 (ipykernel)",
   "language": "python",
   "name": "python3"
  },
  "language_info": {
   "codemirror_mode": {
    "name": "ipython",
    "version": 3
   },
   "file_extension": ".py",
   "mimetype": "text/x-python",
   "name": "python",
   "nbconvert_exporter": "python",
   "pygments_lexer": "ipython3",
   "version": "3.12.5"
  }
 },
 "nbformat": 4,
 "nbformat_minor": 5
}
