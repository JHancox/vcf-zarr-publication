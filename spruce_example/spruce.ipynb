{
 "cells": [
  {
   "cell_type": "code",
   "execution_count": 15,
   "id": "47ce48d8-1106-4f83-b36e-81e8de9a34c5",
   "metadata": {},
   "outputs": [],
   "source": [
    "import sgkit\n",
    "import glob\n",
    "import os\n",
    "import struct\n",
    "import numpy as np\n",
    "import humanfriendly\n",
    "import tabulate\n",
    "from distributed import Client\n",
    "import matplotlib\n",
    "import matplotlib.pyplot as plt\n",
    "import xarray\n",
    "import sys\n",
    "#import dask.array as da\n",
    "import pandas\n",
    "from pathlib import Path\n",
    "from bio2zarr.vcf2zarr import vcz"
   ]
  },
  {
   "cell_type": "markdown",
   "id": "3a7e6c6c-3834-43b1-8e97-87eec9f0e4b3",
   "metadata": {},
   "source": [
    "#### Data sources"
   ]
  },
  {
   "cell_type": "code",
   "execution_count": 5,
   "id": "915fc1bc-2cf1-4b01-b65c-af9a9b00c6a1",
   "metadata": {},
   "outputs": [],
   "source": [
    "WORKDIR=Path(os.environ[\"WORKDIR\"])\n",
    "VCFDIR=Path(os.environ[\"VCFDIR\"])\n",
    "VCF_FILE_PATTERN=VCFDIR / \"PA_chr*.vcf.gz\"\n",
    "ICF_DIR=WORKDIR / \"results\" / \"icf\" / \"spruce.icf\"\n",
    "ZARR_DIR=WORKDIR / \"results\" / \"vcz\" / \"spruce.vcz\""
   ]
  },
  {
   "cell_type": "markdown",
   "id": "778e2308-299e-4e0d-8a44-9adf8ccc0d97",
   "metadata": {},
   "source": [
    "#### VCF size and partitions"
   ]
  },
  {
   "cell_type": "code",
   "execution_count": 10,
   "id": "ce62775c-f00c-48bb-a533-5de2aa6f7820",
   "metadata": {},
   "outputs": [
    {
     "name": "stdout",
     "output_type": "stream",
     "text": [
      "Total compressed VCF: 7.33 TiB across 165 files\n"
     ]
    }
   ],
   "source": [
    "files = glob.glob(str(VCF_FILE_PATTERN))\n",
    "total_size = sum(os.path.getsize(file) for file in files)\n",
    "print(f\"Total compressed VCF: {humanfriendly.format_size(total_size, binary=True)} across {len(files)} files\")"
   ]
  },
  {
   "cell_type": "markdown",
   "id": "5a05128e-874f-4769-a9fc-94f91da48327",
   "metadata": {},
   "source": [
    "#### Inspect Zarr and ICF"
   ]
  },
  {
   "cell_type": "code",
   "execution_count": 17,
   "id": "7980a881-a55a-44d0-84a4-d1bab5ff9e59",
   "metadata": {},
   "outputs": [
    {
     "name": "stdout",
     "output_type": "stream",
     "text": [
      "CPU times: user 5min 28s, sys: 1h 15min 43s, total: 1h 21min 12s\n",
      "Wall time: 3h 19min 18s\n"
     ]
    }
   ],
   "source": [
    "%%time\n",
    "zarrvcf_inspec = vcz.inspect(ZARR_DIR)"
   ]
  },
  {
   "cell_type": "code",
   "execution_count": 24,
   "id": "cd551096-d0f0-432b-aa5f-2af795956a23",
   "metadata": {},
   "outputs": [],
   "source": [
    "zarrdf = pandas.DataFrame(zarrvcf_inspec)"
   ]
  },
  {
   "cell_type": "code",
   "execution_count": 25,
   "id": "69dfc006-2a86-4708-9029-84725d7ac8c2",
   "metadata": {},
   "outputs": [],
   "source": [
    "zarrdf.to_csv(\"spruce_zarr_inspect.csv\", index=False)"
   ]
  },
  {
   "cell_type": "code",
   "execution_count": 26,
   "id": "ffd419ac-fcc9-410a-9542-6759fd44cb82",
   "metadata": {},
   "outputs": [
    {
     "name": "stdout",
     "output_type": "stream",
     "text": [
      "CPU times: user 21.3 ms, sys: 4.73 ms, total: 26 ms\n",
      "Wall time: 105 ms\n"
     ]
    }
   ],
   "source": [
    "%%time\n",
    "icf_inspec = vcz.inspect(ICF_DIR)"
   ]
  },
  {
   "cell_type": "code",
   "execution_count": 27,
   "id": "f53a8f4c-c5be-400e-b3b2-5fadca016fe6",
   "metadata": {},
   "outputs": [],
   "source": [
    "icfdf = pandas.DataFrame(icf_inspec)\n",
    "icfdf.to_csv(\"spruce_icf_inspect.csv\", index=False)"
   ]
  },
  {
   "cell_type": "markdown",
   "id": "f3aaf4a4-98eb-4edd-90e6-e66f29df4871",
   "metadata": {},
   "source": [
    "#### Count Zarr files"
   ]
  },
  {
   "cell_type": "code",
   "execution_count": 23,
   "id": "1dc06082-f240-4d6f-b157-ce4a2800e628",
   "metadata": {},
   "outputs": [
    {
     "name": "stdout",
     "output_type": "stream",
     "text": [
      "17227933\n"
     ]
    }
   ],
   "source": [
    "! find {ZARR_DIR} | wc -l"
   ]
  }
 ],
 "metadata": {
  "kernelspec": {
   "display_name": "Python 3 (ipykernel)",
   "language": "python",
   "name": "python3"
  },
  "language_info": {
   "codemirror_mode": {
    "name": "ipython",
    "version": 3
   },
   "file_extension": ".py",
   "mimetype": "text/x-python",
   "name": "python",
   "nbconvert_exporter": "python",
   "pygments_lexer": "ipython3",
   "version": "3.12.5"
  }
 },
 "nbformat": 4,
 "nbformat_minor": 5
}
