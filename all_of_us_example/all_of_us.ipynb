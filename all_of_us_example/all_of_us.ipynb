{
 "cells": [
  {
   "cell_type": "code",
   "execution_count": 2,
   "id": "3f98f759",
   "metadata": {},
   "outputs": [],
   "source": [
    "from bio2zarr.vcf2zarr import vcz\n",
    "import numpy as np\n",
    "import humanfriendly\n",
    "import os\n",
    "import sys\n",
    "from pathlib import Path\n",
    "import pandas"
   ]
  },
  {
   "cell_type": "code",
   "execution_count": 3,
   "id": "2bcf839b",
   "metadata": {},
   "outputs": [],
   "source": [
    "VCF_FILE= \"exome.chr20.vcf.bgz\"\n",
    "ZARR_DIR= \"chr20.vcz\""
   ]
  },
  {
   "cell_type": "code",
   "execution_count": 4,
   "id": "a204de54",
   "metadata": {},
   "outputs": [
    {
     "name": "stdout",
     "output_type": "stream",
     "text": [
      "Total compressed VCF: 7.44 GiB\n"
     ]
    }
   ],
   "source": [
    "print(f\"Total compressed VCF: {humanfriendly.format_size(os.path.getsize(VCF_FILE), binary=True)}\")"
   ]
  },
  {
   "cell_type": "code",
   "execution_count": 5,
   "id": "bb7181ce",
   "metadata": {},
   "outputs": [
    {
     "name": "stdout",
     "output_type": "stream",
     "text": [
      "CPU times: user 1.85 s, sys: 2.8 s, total: 4.65 s\n",
      "Wall time: 1min 18s\n"
     ]
    }
   ],
   "source": [
    "%%time\n",
    "zarrvcf_inspec = vcz.inspect(ZARR_DIR)"
   ]
  },
  {
   "cell_type": "code",
   "execution_count": 6,
   "id": "93c89d0b",
   "metadata": {},
   "outputs": [],
   "source": [
    "zarrdf = pandas.DataFrame(zarrvcf_inspec)"
   ]
  },
  {
   "cell_type": "code",
   "execution_count": 7,
   "id": "9c5f3ca4",
   "metadata": {},
   "outputs": [],
   "source": [
    "zarrdf.to_csv(\"inspect.csv\", index=False)"
   ]
  },
  {
   "cell_type": "code",
   "execution_count": 8,
   "id": "feb1480d",
   "metadata": {},
   "outputs": [
    {
     "name": "stdout",
     "output_type": "stream",
     "text": [
      "136847\r\n"
     ]
    }
   ],
   "source": [
    "! find {ZARR_DIR} | wc -l"
   ]
  }
 ],
 "metadata": {
  "kernelspec": {
   "display_name": "Python 3 (ipykernel)",
   "language": "python",
   "name": "python3"
  },
  "language_info": {
   "codemirror_mode": {
    "name": "ipython",
    "version": 3
   },
   "file_extension": ".py",
   "mimetype": "text/x-python",
   "name": "python",
   "nbconvert_exporter": "python",
   "pygments_lexer": "ipython3",
   "version": "3.10.12"
  },
  "toc": {
   "base_numbering": 1,
   "nav_menu": {},
   "number_sections": true,
   "sideBar": true,
   "skip_h1_title": false,
   "title_cell": "Table of Contents",
   "title_sidebar": "Contents",
   "toc_cell": false,
   "toc_position": {},
   "toc_section_display": true,
   "toc_window_display": false
  }
 },
 "nbformat": 4,
 "nbformat_minor": 5
}
