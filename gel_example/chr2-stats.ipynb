{
 "cells": [
  {
   "cell_type": "code",
   "execution_count": 1,
   "id": "c3729304-60b7-41e3-92c3-7a20ec485429",
   "metadata": {},
   "outputs": [],
   "source": [
    "import sgkit\n",
    "import glob\n",
    "import os\n",
    "import struct\n",
    "import numpy as np\n",
    "import humanfriendly\n",
    "import tabulate\n",
    "from distributed import Client\n",
    "import matplotlib\n",
    "import matplotlib.pyplot as plt\n",
    "import xarray\n",
    "import sys\n",
    "import dask.array as da\n",
    "import pandas\n",
    "sys.path.append(\"/home/bjeffery/re/messy_vcf/b2z\")\n",
    "from b2z.bio2zarr import vcf"
   ]
  },
  {
   "cell_type": "markdown",
   "id": "9d03c2f9-095b-4904-9368-b648114b3999",
   "metadata": {},
   "source": [
    "### Chr2 converted with bio2zarr 0.0.9"
   ]
  },
  {
   "cell_type": "code",
   "execution_count": 2,
   "id": "bc2372a3-f81a-44f3-b70e-86e204929f7b",
   "metadata": {},
   "outputs": [],
   "source": [
    "VCF_FILE_PATTERN = \"/gel_data_resources/main_programme/aggregation/aggregate_gVCF_strelka/aggV2/genomic_data/gel_mainProgramme_aggV2_chr2_*.vcf.gz\"\n",
    "ZARR_DIR = \"/home/bjeffery/re/messy_vcf/b2z/chr2_parallel_explode_009_3.zarr\"\n",
    "IF_DIR = \"/home/bjeffery/re/messy_vcf/b2z/chr2_parallel_explode_009_2.pkl\""
   ]
  },
  {
   "cell_type": "markdown",
   "id": "c0ff0714-c748-45e8-9598-a67a754e2576",
   "metadata": {},
   "source": [
    "### VCF Size and partitions"
   ]
  },
  {
   "cell_type": "code",
   "execution_count": 3,
   "id": "eeebc24e-fdb4-4573-9fd4-0cb92d9f2c72",
   "metadata": {},
   "outputs": [
    {
     "name": "stdout",
     "output_type": "stream",
     "text": [
      "Total compressed VCF: 12.81 TiB across 106 files\n"
     ]
    }
   ],
   "source": [
    "files = glob.glob(VCF_FILE_PATTERN)\n",
    "total_size = sum(os.path.getsize(file) for file in files)\n",
    "print(f\"Total compressed VCF: {humanfriendly.format_size(total_size, binary=True)} across {len(files)} files\")"
   ]
  },
  {
   "cell_type": "markdown",
   "id": "a289f5e5-5e30-41e8-8023-c3b15b099dc0",
   "metadata": {},
   "source": [
    "### Inspect zarr and IF"
   ]
  },
  {
   "cell_type": "code",
   "execution_count": 4,
   "id": "e3cbc3fe-8e70-4190-ba8c-96ad36314348",
   "metadata": {},
   "outputs": [
    {
     "name": "stdout",
     "output_type": "stream",
     "text": [
      "CPU times: user 45.3 s, sys: 1min 26s, total: 2min 11s\n",
      "Wall time: 4h 55min 5s\n"
     ]
    }
   ],
   "source": [
    "%%time\n",
    "zarrvcf_inspec = vcf.inspect(ZARR_DIR)"
   ]
  },
  {
   "cell_type": "code",
   "execution_count": 8,
   "id": "6a273582-68aa-4fdf-855a-87091c289086",
   "metadata": {},
   "outputs": [],
   "source": [
    "zarrdf = pandas.DataFrame(zarrvcf_inspec)"
   ]
  },
  {
   "cell_type": "code",
   "execution_count": 9,
   "id": "097186bf-ca56-4ff3-9b2a-77217e522767",
   "metadata": {},
   "outputs": [],
   "source": [
    "zarrdf.to_csv(\"chr2_zarr_inspect.csv\", index=False)"
   ]
  },
  {
   "cell_type": "code",
   "execution_count": 4,
   "id": "ce5edebc-2f85-4ca0-b118-de6901b06a59",
   "metadata": {},
   "outputs": [],
   "source": [
    "if_inspec = vcf.inspect(IF_DIR)"
   ]
  },
  {
   "cell_type": "code",
   "execution_count": 9,
   "id": "4c22af64-a688-4db7-9c0c-6a395051b56d",
   "metadata": {},
   "outputs": [],
   "source": [
    "ifdf = pandas.DataFrame(if_inspec)\n",
    "ifdf.to_csv(\"chr2_if_inspect.csv\", index=False)"
   ]
  },
  {
   "cell_type": "markdown",
   "id": "09d701a0-4bce-4f3c-9db1-2552669cd35d",
   "metadata": {},
   "source": [
    "### Count zarr files"
   ]
  },
  {
   "cell_type": "code",
   "execution_count": 1,
   "id": "2b29d295-17be-492d-9376-0236b5abc237",
   "metadata": {},
   "outputs": [
    {
     "name": "stdout",
     "output_type": "stream",
     "text": [
      "8294982"
     ]
    }
   ],
   "source": [
    "! find {ZARR_DIR} | wc -l"
   ]
  }
 ],
 "metadata": {
  "kernelspec": {
   "display_name": "Python 3 (ipykernel)",
   "language": "python",
   "name": "python3"
  },
  "language_info": {
   "codemirror_mode": {
    "name": "ipython",
    "version": 3
   },
   "file_extension": ".py",
   "mimetype": "text/x-python",
   "name": "python",
   "nbconvert_exporter": "python",
   "pygments_lexer": "ipython3",
   "version": "3.10.12"
  }
 },
 "nbformat": 4,
 "nbformat_minor": 5
}
