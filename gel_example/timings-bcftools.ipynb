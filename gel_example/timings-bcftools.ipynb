{
 "cells": [
  {
   "cell_type": "markdown",
   "id": "72367597-1a27-4e86-977a-ce86b4dc9975",
   "metadata": {},
   "source": [
    "### Example tasks using BCFTOOLS\n",
    "\n",
    "Run on 2024-05-20 by Ben Jeffery"
   ]
  },
  {
   "cell_type": "code",
   "execution_count": 2,
   "id": "0f890a71-9fdf-4fbc-b37c-09ee886536f7",
   "metadata": {},
   "outputs": [],
   "source": [
    "VCF_PART = \"/gel_data_resources/main_programme/aggregation/aggregate_gVCF_strelka/aggV2/genomic_data/gel_mainProgramme_aggV2_chr2_58219159_60650943.vcf.gz\""
   ]
  },
  {
   "cell_type": "markdown",
   "id": "377a0db8-3dbb-4a29-8886-ef92a3cb6cd1",
   "metadata": {},
   "source": [
    "### Task 1 - Dump POS"
   ]
  },
  {
   "cell_type": "code",
   "execution_count": 3,
   "id": "fb9d4734-db42-49b7-b51e-d0524409229a",
   "metadata": {},
   "outputs": [
    {
     "name": "stdout",
     "output_type": "stream",
     "text": [
      "-r--r--r-- 1 astuckey Domain Users 132G Aug 22  2020 /gel_data_resources/main_programme/aggregation/aggregate_gVCF_strelka/aggV2/genomic_data/gel_mainProgramme_aggV2_chr2_58219159_60650943.vcf.gz\n"
     ]
    }
   ],
   "source": [
    "!ls -lrth {VCF_PART}"
   ]
  },
  {
   "cell_type": "code",
   "execution_count": 12,
   "id": "4ab5b2ca-239d-47f5-94dd-baaf31e7a166",
   "metadata": {},
   "outputs": [
    {
     "name": "stdout",
     "output_type": "stream",
     "text": [
      "\n",
      "real\t85m51.013s\n",
      "user\t54m39.986s\n",
      "sys\t0m45.277s\n"
     ]
    }
   ],
   "source": [
    "!time bcftools query --format \"%POS\\n\" {VCF_PART} > pos_result_bcftools.txt"
   ]
  },
  {
   "cell_type": "code",
   "execution_count": 4,
   "id": "8d3f223f-b168-4159-b947-6602c3f6b203",
   "metadata": {},
   "outputs": [
    {
     "name": "stdout",
     "output_type": "stream",
     "text": [
      "562640 pos_result_bcftools.txt\n"
     ]
    }
   ],
   "source": [
    "!wc -l pos_result_bcftools.txt"
   ]
  },
  {
   "cell_type": "markdown",
   "id": "cdb42eea-4c8d-41d1-881c-fbe6946d9755",
   "metadata": {},
   "source": [
    "### Task 2 - afdist"
   ]
  },
  {
   "cell_type": "code",
   "execution_count": 4,
   "id": "daa204c3-6d92-4ae0-bc2c-d086396feeb9",
   "metadata": {},
   "outputs": [
    {
     "name": "stdout",
     "output_type": "stream",
     "text": [
      "\n",
      "real\t716m18.733s\n",
      "user\t712m59.845s\n",
      "sys\t3m17.484s\n"
     ]
    }
   ],
   "source": [
    "!time bcftools +fill-tags {VCF_PART} -Oz -o fill_tags.vcf.gz -- -t AF"
   ]
  },
  {
   "cell_type": "code",
   "execution_count": 6,
   "id": "6fed94e4-0f87-426a-880e-a8bd9f074cd4",
   "metadata": {},
   "outputs": [
    {
     "name": "stdout",
     "output_type": "stream",
     "text": [
      "# This file was produced by: bcftools +af-dist(1.16+htslib-1.16)\n",
      "# The command line was:\tbcftools +af-dist fill_tags.vcf.gz\n",
      "#\n",
      "# PROB_DIST, genotype probability distribution, assumes HWE\n",
      "PROB_DIST\t0.000000\t0.100000\t29311427\n",
      "PROB_DIST\t0.100000\t0.200000\t19463168\n",
      "PROB_DIST\t0.200000\t0.300000\t36147659\n",
      "PROB_DIST\t0.300000\t0.400000\t40143232\n",
      "PROB_DIST\t0.400000\t0.500000\t87985695\n",
      "PROB_DIST\t0.500000\t0.600000\t6231499\n",
      "PROB_DIST\t0.600000\t0.700000\t6500591\n",
      "PROB_DIST\t0.700000\t0.800000\t5851723\n",
      "PROB_DIST\t0.800000\t0.900000\t1410942\n",
      "PROB_DIST\t0.900000\t1.000000\t4068590\n",
      "# DEV_DIST, distribution of AF deviation, based on AF and INFO/AN, AC calculated on the fly\n",
      "DEV_DIST\t0.000000\t0.100000\t561429\n",
      "DEV_DIST\t0.100000\t0.200000\t16\n",
      "DEV_DIST\t0.200000\t0.300000\t1\n",
      "DEV_DIST\t0.300000\t0.400000\t1\n",
      "DEV_DIST\t0.400000\t0.500000\t0\n",
      "DEV_DIST\t0.500000\t0.600000\t0\n",
      "DEV_DIST\t0.600000\t0.700000\t0\n",
      "DEV_DIST\t0.700000\t0.800000\t0\n",
      "DEV_DIST\t0.800000\t0.900000\t0\n",
      "DEV_DIST\t0.900000\t1.000000\t1\n",
      "\n",
      "real\t152m10.399s\n",
      "user\t151m16.503s\n",
      "sys\t0m52.628s\n"
     ]
    }
   ],
   "source": [
    "!time bcftools +af-dist fill_tags.vcf.gz"
   ]
  },
  {
   "cell_type": "markdown",
   "id": "0f920833-b37d-48bc-9d5c-ff578b8e080c",
   "metadata": {},
   "source": [
    "### Task 3 - filtering on FORMAT fields"
   ]
  },
  {
   "cell_type": "code",
   "execution_count": 14,
   "id": "cb2b2c07-b416-477a-88a0-685e50af0b4a",
   "metadata": {},
   "outputs": [
    {
     "name": "stdout",
     "output_type": "stream",
     "text": [
      "\n",
      "real\t689m29.932s\n",
      "user\t686m14.831s\n",
      "sys\t3m13.810s\n"
     ]
    }
   ],
   "source": [
    "!time bcftools view -I --include \"FORMAT/DP>10 & FORMAT/GQ>20\" {VCF_PART} -Oz > filtered_bcftools.vcf.gz"
   ]
  },
  {
   "cell_type": "code",
   "execution_count": null,
   "id": "0729bfbb-78e4-43d1-ae16-f5024dda7956",
   "metadata": {},
   "outputs": [],
   "source": []
  }
 ],
 "metadata": {
  "kernelspec": {
   "display_name": "Python 3 (ipykernel)",
   "language": "python",
   "name": "python3"
  },
  "language_info": {
   "codemirror_mode": {
    "name": "ipython",
    "version": 3
   },
   "file_extension": ".py",
   "mimetype": "text/x-python",
   "name": "python",
   "nbconvert_exporter": "python",
   "pygments_lexer": "ipython3",
   "version": "3.10.12"
  }
 },
 "nbformat": 4,
 "nbformat_minor": 5
}
