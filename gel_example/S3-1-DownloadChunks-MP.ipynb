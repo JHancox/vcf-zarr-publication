{
 "cells": [
  {
   "cell_type": "markdown",
   "id": "e5752e03-2b9f-41af-9b2e-240003f10323",
   "metadata": {},
   "source": [
    "# Chunk downloading tests"
   ]
  },
  {
   "cell_type": "code",
   "execution_count": 1,
   "id": "a4a97d60-cc07-4b23-a845-be147af7afc2",
   "metadata": {
    "scrolled": true
   },
   "outputs": [
    {
     "name": "stdout",
     "output_type": "stream",
     "text": [
      "Requirement already satisfied: boto3 in /mnt/libraries/envs/cloudos/lib/python3.12/site-packages (1.35.36)\n",
      "Requirement already satisfied: matplotlib in /mnt/libraries/envs/cloudos/lib/python3.12/site-packages (3.9.2)\n",
      "Requirement already satisfied: aioboto3 in /mnt/libraries/envs/cloudos/lib/python3.12/site-packages (13.2.0)\n",
      "Requirement already satisfied: aiobotocore in /mnt/libraries/envs/cloudos/lib/python3.12/site-packages (2.15.2)\n",
      "Requirement already satisfied: numcodecs in /mnt/libraries/envs/cloudos/lib/python3.12/site-packages (0.14.1)\n",
      "Requirement already satisfied: botocore<1.36.0,>=1.35.36 in /mnt/libraries/envs/cloudos/lib/python3.12/site-packages (from boto3) (1.35.36)\n",
      "Requirement already satisfied: jmespath<2.0.0,>=0.7.1 in /mnt/libraries/envs/cloudos/lib/python3.12/site-packages (from boto3) (1.0.1)\n",
      "Requirement already satisfied: s3transfer<0.11.0,>=0.10.0 in /mnt/libraries/envs/cloudos/lib/python3.12/site-packages (from boto3) (0.10.2)\n",
      "Requirement already satisfied: contourpy>=1.0.1 in /mnt/libraries/envs/cloudos/lib/python3.12/site-packages (from matplotlib) (1.3.0)\n",
      "Requirement already satisfied: cycler>=0.10 in /mnt/libraries/envs/cloudos/lib/python3.12/site-packages (from matplotlib) (0.12.1)\n",
      "Requirement already satisfied: fonttools>=4.22.0 in /mnt/libraries/envs/cloudos/lib/python3.12/site-packages (from matplotlib) (4.54.1)\n",
      "Requirement already satisfied: kiwisolver>=1.3.1 in /mnt/libraries/envs/cloudos/lib/python3.12/site-packages (from matplotlib) (1.4.7)\n",
      "Requirement already satisfied: numpy>=1.23 in /mnt/libraries/envs/cloudos/lib/python3.12/site-packages (from matplotlib) (2.0.2)\n",
      "Requirement already satisfied: packaging>=20.0 in /mnt/libraries/envs/cloudos/lib/python3.12/site-packages (from matplotlib) (24.1)\n",
      "Requirement already satisfied: pillow>=8 in /mnt/libraries/envs/cloudos/lib/python3.12/site-packages (from matplotlib) (10.4.0)\n",
      "Requirement already satisfied: pyparsing>=2.3.1 in /mnt/libraries/envs/cloudos/lib/python3.12/site-packages (from matplotlib) (3.1.4)\n",
      "Requirement already satisfied: python-dateutil>=2.7 in /mnt/libraries/envs/cloudos/lib/python3.12/site-packages (from matplotlib) (2.9.0)\n",
      "Requirement already satisfied: aiofiles>=23.2.1 in /mnt/libraries/envs/cloudos/lib/python3.12/site-packages (from aioboto3) (24.1.0)\n",
      "Requirement already satisfied: aiohttp<4.0.0,>=3.9.2 in /mnt/libraries/envs/cloudos/lib/python3.12/site-packages (from aiobotocore) (3.9.5)\n",
      "Requirement already satisfied: wrapt<2.0.0,>=1.10.10 in /mnt/libraries/envs/cloudos/lib/python3.12/site-packages (from aiobotocore) (1.17.0)\n",
      "Requirement already satisfied: aioitertools<1.0.0,>=0.5.1 in /mnt/libraries/envs/cloudos/lib/python3.12/site-packages (from aiobotocore) (0.12.0)\n",
      "Requirement already satisfied: aiosignal>=1.1.2 in /mnt/libraries/envs/cloudos/lib/python3.12/site-packages (from aiohttp<4.0.0,>=3.9.2->aiobotocore) (1.3.1)\n",
      "Requirement already satisfied: attrs>=17.3.0 in /mnt/libraries/envs/cloudos/lib/python3.12/site-packages (from aiohttp<4.0.0,>=3.9.2->aiobotocore) (24.2.0)\n",
      "Requirement already satisfied: frozenlist>=1.1.1 in /mnt/libraries/envs/cloudos/lib/python3.12/site-packages (from aiohttp<4.0.0,>=3.9.2->aiobotocore) (1.4.1)\n",
      "Requirement already satisfied: multidict<7.0,>=4.5 in /mnt/libraries/envs/cloudos/lib/python3.12/site-packages (from aiohttp<4.0.0,>=3.9.2->aiobotocore) (6.1.0)\n",
      "Requirement already satisfied: yarl<2.0,>=1.0 in /mnt/libraries/envs/cloudos/lib/python3.12/site-packages (from aiohttp<4.0.0,>=3.9.2->aiobotocore) (1.13.1)\n",
      "Requirement already satisfied: urllib3!=2.2.0,<3,>=1.25.4 in /mnt/libraries/envs/cloudos/lib/python3.12/site-packages (from botocore<1.36.0,>=1.35.36->boto3) (2.2.3)\n",
      "Requirement already satisfied: six>=1.5 in /mnt/libraries/envs/cloudos/lib/python3.12/site-packages (from python-dateutil>=2.7->matplotlib) (1.16.0)\n",
      "Requirement already satisfied: idna>=2.0 in /mnt/libraries/envs/cloudos/lib/python3.12/site-packages (from yarl<2.0,>=1.0->aiohttp<4.0.0,>=3.9.2->aiobotocore) (3.10)\n"
     ]
    }
   ],
   "source": [
    "!pip install boto3 matplotlib aioboto3 aiobotocore numcodecs\n",
    "import boto3\n",
    "import aioboto3\n",
    "import asyncio\n",
    "from botocore.config import Config\n",
    "import matplotlib.pyplot as plt\n",
    "import time\n",
    "from concurrent.futures import ThreadPoolExecutor"
   ]
  },
  {
   "cell_type": "code",
   "execution_count": 2,
   "id": "defaabbd-4471-4b9c-a45f-0c96a2703b5d",
   "metadata": {},
   "outputs": [],
   "source": [
    "s3_client = boto3.client('s3', config=Config(max_pool_connections=512))"
   ]
  },
  {
   "cell_type": "code",
   "execution_count": 3,
   "id": "c12823b2-a534-4007-9972-3609ccdf0e8e",
   "metadata": {},
   "outputs": [],
   "source": [
    "bucket=\"lifebit-user-data-1f2bfdf2-1d99-488c-9b87-246c62b66ea7\""
   ]
  },
  {
   "cell_type": "markdown",
   "id": "5576a90d-852a-4b78-ab46-d88b2f3169ce",
   "metadata": {},
   "source": [
    "## Check bucket and instance location"
   ]
  },
  {
   "cell_type": "code",
   "execution_count": 4,
   "id": "bbab6c69-8a02-4639-bb49-b36f4ecacebc",
   "metadata": {},
   "outputs": [
    {
     "name": "stdout",
     "output_type": "stream",
     "text": [
      "Error: SSL validation failed for https://s3.amazonaws.com/lifebit-user-data-1f2bfdf2-1d99-488c-9b87-246c62b66ea7?location [SSL: CERTIFICATE_VERIFY_FAILED] certificate verify failed: self-signed certificate in certificate chain (_ssl.c:1000)\n",
      "Bucket region: eu-west-2\n"
     ]
    }
   ],
   "source": [
    "# Method 1: get_bucket_location\n",
    "try:\n",
    "    location = s3_client.get_bucket_location(Bucket=bucket)['LocationConstraint']\n",
    "    # Note: None or null means us-east-1\n",
    "    print(f\"Bucket region: {location or 'us-east-1'}\")\n",
    "except Exception as e:\n",
    "    print(f\"Error: {e}\")\n",
    "\n",
    "# Method 2: head_bucket (check response headers)\n",
    "try:\n",
    "    response = s3_client.head_bucket(Bucket=bucket)\n",
    "    region = response['ResponseMetadata']['HTTPHeaders']['x-amz-bucket-region']\n",
    "    print(f\"Bucket region: {region}\")\n",
    "except Exception as e:\n",
    "    print(f\"Error: {e}\")"
   ]
  },
  {
   "cell_type": "code",
   "execution_count": 5,
   "id": "73c8a4cd-30c0-4f8a-9711-cd9d39c57807",
   "metadata": {},
   "outputs": [
    {
     "name": "stdout",
     "output_type": "stream",
     "text": [
      "Region from boto3: None\n",
      "Region from metadata: \n",
      "Region from IMDSv2: eu-west-2\n"
     ]
    }
   ],
   "source": [
    "# Method 1: Using boto3\n",
    "import boto3\n",
    "region = boto3.Session().region_name\n",
    "print(f\"Region from boto3: {region}\")\n",
    "\n",
    "# Method 2: Query instance metadata service\n",
    "import requests\n",
    "try:\n",
    "    r = requests.get('http://169.254.169.254/latest/meta-data/placement/region', timeout=1)\n",
    "    print(f\"Region from metadata: {r.text}\")\n",
    "except Exception as e:\n",
    "    print(f\"Metadata error: {e}\")\n",
    "\n",
    "# Method 3: Query instance metadata service v2 (if IMDSv2 is required)\n",
    "try:\n",
    "    token_response = requests.put('http://169.254.169.254/latest/api/token', \n",
    "                                headers={'X-aws-ec2-metadata-token-ttl-seconds': '21600'}, \n",
    "                                timeout=1)\n",
    "    token = token_response.text\n",
    "    r = requests.get('http://169.254.169.254/latest/meta-data/placement/region',\n",
    "                    headers={'X-aws-ec2-metadata-token': token},\n",
    "                    timeout=1)\n",
    "    print(f\"Region from IMDSv2: {r.text}\")\n",
    "except Exception as e:\n",
    "    print(f\"IMDSv2 error: {e}\")"
   ]
  },
  {
   "cell_type": "markdown",
   "id": "c4ba4168-ab03-47ed-aff5-02daba5ce3ca",
   "metadata": {},
   "source": [
    "### Both in eu-west-2"
   ]
  },
  {
   "cell_type": "markdown",
   "id": "6a398d47-9a22-4951-bc04-64c101d1b9c0",
   "metadata": {},
   "source": [
    "## Single process, single thread downloading"
   ]
  },
  {
   "cell_type": "code",
   "execution_count": 6,
   "id": "6b6826df-3462-43b3-aee2-7e28ae893612",
   "metadata": {},
   "outputs": [],
   "source": [
    "keys = [f\"GEL-256534/call_AD/{i}/{j}/0\" for i in range(4000) for j in range(4)]"
   ]
  },
  {
   "cell_type": "code",
   "execution_count": 7,
   "id": "a13a9944-90d8-4652-9da6-cab7d9e47d7b",
   "metadata": {},
   "outputs": [
    {
     "name": "stdout",
     "output_type": "stream",
     "text": [
      "Fetching 16000 objects\n",
      "\n",
      "Results:\n",
      "Fetched 16000 objects in 107.01s\n",
      "Total data: 20.89 GB\n",
      "Throughput: 195.22 MB/s\n",
      "Rate: 149.52 obj/s\n"
     ]
    }
   ],
   "source": [
    "import aioboto3\n",
    "\n",
    "session = aioboto3.Session()\n",
    "\n",
    "async with session.client('s3',config=Config(max_pool_connections=512)) as s3:\n",
    "    async def fetch_single(key: str):\n",
    "        response = await s3.get_object(Bucket=bucket, Key=key)\n",
    "        data = await response['Body'].read()\n",
    "        return len(data)\n",
    "    \n",
    "    start = time.time()\n",
    "    print(f\"Fetching {len(keys)} objects\")\n",
    "    results = await asyncio.gather(\n",
    "        *[fetch_single(key) for key in keys],\n",
    "    )\n",
    "    elapsed = time.time() - start\n",
    "    total_size = sum(results)\n",
    "\n",
    "print(f\"\\nResults:\")\n",
    "print(f\"Fetched {len(results)} objects in {elapsed:.2f}s\")\n",
    "print(f\"Total data: {total_size/1000**3:.2f} GB\")\n",
    "print(f\"Throughput: {total_size/elapsed/1000**2:.2f} MB/s\")\n",
    "print(f\"Rate: {len(results)/elapsed:.2f} obj/s\")"
   ]
  },
  {
   "cell_type": "markdown",
   "id": "751f7d48-5105-47e0-9151-5e890789051c",
   "metadata": {},
   "source": [
    "### Asyncio in Python uses an event loop in single thread, so we're limited to a single core here."
   ]
  },
  {
   "cell_type": "markdown",
   "id": "e6a39eee-cd56-45c2-b058-2cda8ae566a6",
   "metadata": {},
   "source": [
    "## Single process, mutlithread"
   ]
  },
  {
   "cell_type": "code",
   "execution_count": 8,
   "id": "8a08c2e7-493a-4750-941e-d8d541c95636",
   "metadata": {},
   "outputs": [
    {
     "name": "stdout",
     "output_type": "stream",
     "text": [
      "Initial thread count: 9\n",
      "Error on GEL-256534/call_AD/2774/0/0: Connection was closed before we received a valid response from endpoint URL: \"https://lifebit-user-data-1f2bfdf2-1d99-488c-9b87-246c62b66ea7.s3.eu-west-2.amazonaws.com/GEL-256534/call_AD/2774/0/0\".\n",
      "\n",
      "Results:\n",
      "Fetched 15999/16000 objects in 75.81s\n",
      "Total data: 20.89 GB\n",
      "Throughput: 275.52 MB/s\n",
      "Rate: 211.03 obj/s\n",
      "\n",
      "Timing stats (seconds):\n",
      "Min: 0.159\n",
      "Max: 7.738\n",
      "Avg: 2.219\n"
     ]
    }
   ],
   "source": [
    "import boto3\n",
    "from concurrent.futures import ThreadPoolExecutor\n",
    "import time\n",
    "import threading\n",
    "\n",
    "s3 = boto3.client('s3',\n",
    "    config=Config(\n",
    "        max_pool_connections=1000,  # Increased from default\n",
    "        connect_timeout=1,          # Faster timeout\n",
    "        read_timeout=30,\n",
    "        retries={'max_attempts': 0} # Disable retries for testing\n",
    "    )\n",
    ")\n",
    "\n",
    "def fetch_object(key):\n",
    "    try:\n",
    "        start = time.time()\n",
    "        data = s3.get_object(Bucket=bucket, Key=key)['Body'].read()\n",
    "        size = len(data)\n",
    "        elapsed = time.time() - start\n",
    "        return size, elapsed\n",
    "    except Exception as e:\n",
    "        print(f\"Error on {key}: {e}\")\n",
    "        return 0, 0\n",
    "\n",
    "active = threading.active_count()\n",
    "print(f\"Initial thread count: {active}\")\n",
    "\n",
    "start = time.time()\n",
    "sizes_and_times = []\n",
    "with ThreadPoolExecutor(max_workers=512) as pool:\n",
    "    sizes_and_times = list(pool.map(fetch_object, keys))\n",
    "\n",
    "elapsed = time.time() - start\n",
    "total_size = sum(size for size, _ in sizes_and_times)\n",
    "successful_fetches = sum(1 for size, _ in sizes_and_times if size > 0)\n",
    "\n",
    "print(f\"\\nResults:\")\n",
    "print(f\"Fetched {successful_fetches}/{len(keys)} objects in {elapsed:.2f}s\")\n",
    "print(f\"Total data: {total_size/1000**3:.2f} GB\")\n",
    "print(f\"Throughput: {total_size/elapsed/1000**2:.2f} MB/s\")\n",
    "print(f\"Rate: {successful_fetches/elapsed:.2f} obj/s\")\n",
    "\n",
    "# Show timing distribution\n",
    "times = [t for _, t in sizes_and_times if t > 0]\n",
    "if times:\n",
    "    print(f\"\\nTiming stats (seconds):\")\n",
    "    print(f\"Min: {min(times):.3f}\")\n",
    "    print(f\"Max: {max(times):.3f}\")\n",
    "    print(f\"Avg: {sum(times)/len(times):.3f}\")"
   ]
  },
  {
   "cell_type": "markdown",
   "id": "671ffdee-22c7-455c-b58a-45c1e6b61ff6",
   "metadata": {},
   "source": [
    "### Meh, still not great - CPU use sits at about 250% as all the stuff boto is doing will be holding the GIL"
   ]
  },
  {
   "cell_type": "markdown",
   "id": "03056efc-d5c5-452d-9bff-cebe4a0de859",
   "metadata": {},
   "source": [
    "## Single async loop in each of a set of parallel processes"
   ]
  },
  {
   "cell_type": "code",
   "execution_count": 9,
   "id": "c27edc15-aaaa-408f-b957-679534a14abb",
   "metadata": {},
   "outputs": [],
   "source": [
    "import asyncio\n",
    "import aioboto3\n",
    "import multiprocessing as mp\n",
    "from collections import defaultdict\n",
    "import time\n",
    "import os\n",
    "from typing import List, Dict\n",
    "import statistics\n",
    "from dataclasses import dataclass\n",
    "from concurrent.futures import ProcessPoolExecutor\n",
    "\n",
    "@dataclass\n",
    "class BatchStats:\n",
    "    process_id: int\n",
    "    start_time: float\n",
    "    total_bytes: int\n",
    "    files_completed: int\n",
    "    duration: float = None\n",
    "    \n",
    "class S3BulkFetcher:\n",
    "    def __init__(self, bucket: str, keys: List[str], num_processes: int = None, batch_size: int = 500):\n",
    "        self.bucket = bucket\n",
    "        self.keys = keys\n",
    "        self.num_processes = num_processes or mp.cpu_count()\n",
    "        self.batch_size = batch_size\n",
    "        self.work_queue = mp.Queue()\n",
    "        self.stats_queue = mp.Queue()\n",
    "        \n",
    "    def prepare_batches(self):\n",
    "        batches = [\n",
    "            self.keys[i:i+self.batch_size] \n",
    "            for i in range(0, len(self.keys), self.batch_size)\n",
    "        ]\n",
    "        for batch in batches:\n",
    "            self.work_queue.put(batch)\n",
    "            \n",
    "        for _ in range(self.num_processes):\n",
    "            self.work_queue.put(None)\n",
    "    \n",
    "    async def process_batch(self, batch: List[str], session) -> BatchStats:\n",
    "        stats = BatchStats(\n",
    "            process_id=os.getpid(),\n",
    "            start_time=time.time(),\n",
    "            total_bytes=0,\n",
    "            files_completed=0\n",
    "        )\n",
    "        \n",
    "        async with session.client('s3') as s3:\n",
    "            async def fetch_single(key: str):\n",
    "                try:\n",
    "                    response = await s3.get_object(Bucket=self.bucket, Key=key)\n",
    "                    data = await response['Body'].read()\n",
    "                    return len(data), True\n",
    "                except Exception as e:\n",
    "                    print(f\"Error processing {key}: {e}\")\n",
    "                    return 0, False\n",
    "            \n",
    "            results = await asyncio.gather(\n",
    "                *[fetch_single(key) for key in batch],\n",
    "                return_exceptions=False\n",
    "            )\n",
    "            \n",
    "            for file_size, success in results:\n",
    "                stats.total_bytes += file_size\n",
    "                if success:\n",
    "                    stats.files_completed += 1\n",
    "                    \n",
    "        stats.duration = time.time() - stats.start_time\n",
    "        return stats\n",
    "    \n",
    "    async def worker_loop(self):\n",
    "        session = aioboto3.Session()\n",
    "        \n",
    "        while True:\n",
    "            batch = self.work_queue.get()\n",
    "            if batch is None:  # sentinel value\n",
    "                break\n",
    "                \n",
    "            stats = await self.process_batch(batch, session)\n",
    "            self.stats_queue.put(stats)\n",
    "\n",
    "    def worker_process(self):\n",
    "        asyncio.run(self.worker_loop())\n",
    "\n",
    "    def print_final_stats(self, all_stats: List[BatchStats], wall_time: float):\n",
    "        total_bytes = sum(s.total_bytes for s in all_stats)\n",
    "        total_files = sum(s.files_completed for s in all_stats)\n",
    "        \n",
    "        process_stats = defaultdict(lambda: {'bytes': 0, 'files': 0, 'batches': 0})\n",
    "        for stat in all_stats:\n",
    "            process_stats[stat.process_id]['bytes'] += stat.total_bytes\n",
    "            process_stats[stat.process_id]['files'] += stat.files_completed\n",
    "            process_stats[stat.process_id]['batches'] += 1\n",
    "\n",
    "        batch_times = [s.duration for s in all_stats]\n",
    "        \n",
    "        #print(\"\\n=== S3 Bulk Download Statistics ===\")\n",
    "        #print(f\"\\nOverall Performance:\")\n",
    "        #print(f\"Total transfer: {total_bytes / 1024 / 1024:.2f} MB in {total_files} files\")\n",
    "        #print(f\"Duration: {wall_time:.2f} seconds\")\n",
    "        #print(f\"Throughput: {(total_bytes / 1024 / 1024) / wall_time:.2f} MB/s, \"\n",
    "        #      f\"{total_files / wall_time:.1f} files/s\")\n",
    "        \n",
    "        #print(\"\\nBatch Statistics:\")\n",
    "        #print(f\"Batch times - min: {min(batch_times):.2f}s, \"\n",
    "        #      f\"max: {max(batch_times):.2f}s, \"\n",
    "        #      f\"avg: {statistics.mean(batch_times):.2f}s\")\n",
    "        \n",
    "        #print(\"\\nPer-Process Performance:\")\n",
    "        #for pid, stats in process_stats.items():\n",
    "        #    print(f\"Process {pid}:\")\n",
    "        #    print(f\"  Throughput: {(stats['bytes'] / 1024 / 1024) / wall_time:.2f} MB/s, \"\n",
    "        #          f\"{stats['files'] / wall_time:.1f} files/s\")\n",
    "        #    print(f\"  Processed: {stats['files']} files in {stats['batches']} batches\")\n",
    "\n",
    "    def run(self):\n",
    "        start_time = time.time()\n",
    "        \n",
    "        # Prepare work batches\n",
    "        self.prepare_batches()\n",
    "        \n",
    "        # Start worker processes\n",
    "        processes = []\n",
    "        for _ in range(self.num_processes):\n",
    "            p = mp.Process(target=self.worker_process)\n",
    "            p.start()\n",
    "            processes.append(p)\n",
    "            \n",
    "        # Collect all stats\n",
    "        all_stats = []\n",
    "        stats_to_collect = len([b for b in self.keys[::self.batch_size]])\n",
    "        \n",
    "        while len(all_stats) < stats_to_collect:\n",
    "            stats = self.stats_queue.get()\n",
    "            all_stats.append(stats)\n",
    "            \n",
    "            # Optional: Print progress\n",
    "            #if len(all_stats) % 10 == 0:\n",
    "            #    print(f\"Progress: {len(all_stats)}/{stats_to_collect} batches complete\")\n",
    "        \n",
    "        # Wait for all processes to complete\n",
    "        for p in processes:\n",
    "            p.join()\n",
    "            \n",
    "        wall_time = time.time() - start_time\n",
    "        \n",
    "        # Print final statistics\n",
    "        self.print_final_stats(all_stats, wall_time)\n",
    "        \n",
    "        return all_stats\n",
    "\n"
   ]
  },
  {
   "cell_type": "code",
   "execution_count": 10,
   "id": "57c5c40a-f67b-4daf-aaff-21bbc40d53b1",
   "metadata": {},
   "outputs": [],
   "source": [
    "def run_scaling_benchmark(\n",
    "    fetcher_class,\n",
    "    bucket,\n",
    "    keys,\n",
    "    batch_size,\n",
    "    min_processes,\n",
    "    max_processes\n",
    "):\n",
    "    process_counts = []\n",
    "    throughputs = []\n",
    "    \n",
    "    n_proc = min_processes\n",
    "    while n_proc <= max_processes:\n",
    "        print(f\"\\nTesting with {n_proc} processes...\")\n",
    "        fetcher = fetcher_class(\n",
    "            bucket=bucket,\n",
    "            keys=keys[:n_proc*batch_size*4],\n",
    "            num_processes=n_proc,\n",
    "            batch_size=batch_size\n",
    "        )\n",
    "        \n",
    "        start_time = time.time()\n",
    "        stats = fetcher.run()\n",
    "        duration = time.time() - start_time\n",
    "        \n",
    "        total_bytes = sum(s.total_bytes for s in stats)\n",
    "        throughput = (total_bytes / 1000/ 1000) / duration  # MB/s\n",
    "        \n",
    "        process_counts.append(n_proc)\n",
    "        throughputs.append(throughput)\n",
    "        \n",
    "        print(f\"Throughput with {n_proc} processes: {throughput:.2f} MB/s\")\n",
    "        \n",
    "        n_proc *= 2\n",
    "        \n",
    "    return process_counts, throughputs\n",
    "\n",
    "def plot_scaling(process_counts, throughputs, title= \"S3 Throughput Scaling\"):\n",
    "    plt.figure(figsize=(10, 6))\n",
    "    plt.plot(process_counts, throughputs, 'bo-', linewidth=2, markersize=8)\n",
    "    \n",
    "    plt.xscale('log', base=2)\n",
    "    plt.grid(True, which=\"both\", ls=\"-\", alpha=0.2)\n",
    "    \n",
    "    plt.xlabel(\"Number of Processes\")\n",
    "    plt.ylabel(\"Throughput (MB/s)\")\n",
    "    plt.title(title)\n",
    "    \n",
    "    plt.legend()\n",
    "    plt.tight_layout()\n"
   ]
  },
  {
   "cell_type": "code",
   "execution_count": null,
   "id": "859d7ff2-6bbf-4c22-b85f-203cf234f3a9",
   "metadata": {},
   "outputs": [],
   "source": [
    "# instance type = c5.9xlarge\n",
    "process_counts, throughputs = run_scaling_benchmark(\n",
    "        S3BulkFetcher,\n",
    "        bucket=bucket,\n",
    "        keys=keys,\n",
    "        batch_size=500,\n",
    "        min_processes=1,\n",
    "        max_processes=64\n",
    "    )\n",
    "print(process_counts, throughputs)\n",
    "plot_scaling(process_counts, throughputs)"
   ]
  },
  {
   "cell_type": "code",
   "execution_count": null,
   "id": "c9277f85-1031-466c-bf98-b355b36de48b",
   "metadata": {},
   "outputs": [],
   "source": [
    "# instance type = c5n.9xlarge\n",
    "process_counts, throughputs = run_scaling_benchmark(\n",
    "        S3BulkFetcher,\n",
    "        bucket=bucket,\n",
    "        keys=keys,\n",
    "        batch_size=500,\n",
    "        min_processes=1,\n",
    "        max_processes=64\n",
    "    )\n",
    "print(process_counts, throughputs)\n",
    "plot_scaling(process_counts, throughputs)"
   ]
  },
  {
   "cell_type": "code",
   "execution_count": 13,
   "id": "0caea074-4ec0-4440-a833-b20468e9d6f8",
   "metadata": {},
   "outputs": [
    {
     "name": "stderr",
     "output_type": "stream",
     "text": [
      "/tmp/ipykernel_2779/2963857616.py:3: UserWarning: color is redundantly defined by the 'color' keyword argument and the fmt string \"bo-\" (-> color='b'). The keyword argument will take precedence.\n",
      "  plt.plot([1, 2, 4, 8, 16, 32, 64], [162.80624306237462, 345.7732721919105, 658.9358771498762, 1062.419542658184, 1972.057722720383, 2541.4617122839895, 2523.501053909922], 'bo-', linewidth=2, markersize=8, label=\"c5n.9xlarge\", color=\"red\")\n"
     ]
    },
    {
     "data": {
      "image/png": "[encoded data removed]",
      "text/plain": [
       "<Figure size 1000x600 with 1 Axes>"
      ]
     },
     "metadata": {},
     "output_type": "display_data"
    }
   ],
   "source": [
    "    plt.figure(figsize=(10, 6))\n",
    "    plt.plot([1, 2, 4, 8, 16, 32, 64], [159.0341786762204, 349.88301727773677, 660.1621287063576, 1009.4825168651081, 1253.8112536680967, 1280.6974940263988, 1274.494689412922], 'bo-', linewidth=2, markersize=8, label=\"c5.9xlarge\")\n",
    "    plt.plot([1, 2, 4, 8, 16, 32, 64], [162.80624306237462, 345.7732721919105, 658.9358771498762, 1062.419542658184, 1972.057722720383, 2541.4617122839895, 2523.501053909922], 'bo-', linewidth=2, markersize=8, label=\"c5n.9xlarge\", color=\"red\")\n",
    "    \n",
    "    #plt.xscale('log')\n",
    "    plt.grid(True, which=\"both\", ls=\"-\", alpha=0.2)\n",
    "    \n",
    "    plt.xlabel(\"Number of Processes\")\n",
    "    plt.ylabel(\"Throughput (MB/s)\")\n",
    "    plt.title(\"S3 Raw Throughput\")\n",
    "    \n",
    "    plt.legend()\n",
    "    plt.tight_layout()"
   ]
  },
  {
   "cell_type": "markdown",
   "id": "e9516c73-2a09-4bfd-bc85-54fb53e39f9b",
   "metadata": {},
   "source": [
    "### Yay, we're network bound."
   ]
  }
 ],
 "metadata": {
  "kernelspec": {
   "display_name": "Python (libraries-cloudos)",
   "language": "python",
   "name": "conda-env-libraries-cloudos-py"
  },
  "language_info": {
   "codemirror_mode": {
    "name": "ipython",
    "version": 3
   },
   "file_extension": ".py",
   "mimetype": "text/x-python",
   "name": "python",
   "nbconvert_exporter": "python",
   "pygments_lexer": "ipython3",
   "version": "3.12.6"
  }
 },
 "nbformat": 4,
 "nbformat_minor": 5
}
