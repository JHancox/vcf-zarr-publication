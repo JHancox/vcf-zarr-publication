{
 "cells": [
  {
   "cell_type": "markdown",
   "id": "c9686af7-1a85-467f-8b5d-28baffdfa309",
   "metadata": {},
   "source": [
    "# Example tasks using vcfzarr on S3"
   ]
  },
  {
   "cell_type": "code",
   "execution_count": 1,
   "id": "058deeea-319b-45e9-93e9-82a57cda1cc9",
   "metadata": {
    "collapsed": true,
    "jupyter": {
     "outputs_hidden": true
    },
    "scrolled": true
   },
   "outputs": [
    {
     "name": "stdout",
     "output_type": "stream",
     "text": [
      "Requirement already satisfied: zarr in /mnt/libraries/envs/cloudos/lib/python3.12/site-packages (2.18.3)\n",
      "Requirement already satisfied: s3fs in /mnt/libraries/envs/cloudos/lib/python3.12/site-packages (2024.10.0)\n",
      "Requirement already satisfied: tqdm in /mnt/libraries/envs/cloudos/lib/python3.12/site-packages (4.66.5)\n",
      "Requirement already satisfied: pandas in /mnt/libraries/envs/cloudos/lib/python3.12/site-packages (2.2.3)\n",
      "Requirement already satisfied: numba in /mnt/libraries/envs/cloudos/lib/python3.12/site-packages (0.60.0)\n",
      "Requirement already satisfied: asciitree in /mnt/libraries/envs/cloudos/lib/python3.12/site-packages (from zarr) (0.3.3)\n",
      "Requirement already satisfied: numpy>=1.24 in /mnt/libraries/envs/cloudos/lib/python3.12/site-packages (from zarr) (2.0.2)\n",
      "Requirement already satisfied: numcodecs>=0.10.0 in /mnt/libraries/envs/cloudos/lib/python3.12/site-packages (from zarr) (0.14.0)\n",
      "Requirement already satisfied: fasteners in /mnt/libraries/envs/cloudos/lib/python3.12/site-packages (from zarr) (0.19)\n",
      "Requirement already satisfied: aiobotocore<3.0.0,>=2.5.4 in /mnt/libraries/envs/cloudos/lib/python3.12/site-packages (from s3fs) (2.15.2)\n",
      "Requirement already satisfied: fsspec==2024.10.0.* in /mnt/libraries/envs/cloudos/lib/python3.12/site-packages (from s3fs) (2024.10.0)\n",
      "Requirement already satisfied: aiohttp!=4.0.0a0,!=4.0.0a1 in /mnt/libraries/envs/cloudos/lib/python3.12/site-packages (from s3fs) (3.9.5)\n",
      "Requirement already satisfied: python-dateutil>=2.8.2 in /mnt/libraries/envs/cloudos/lib/python3.12/site-packages (from pandas) (2.9.0)\n",
      "Requirement already satisfied: pytz>=2020.1 in /mnt/libraries/envs/cloudos/lib/python3.12/site-packages (from pandas) (2024.1)\n",
      "Requirement already satisfied: tzdata>=2022.7 in /mnt/libraries/envs/cloudos/lib/python3.12/site-packages (from pandas) (2024.2)\n",
      "Requirement already satisfied: llvmlite<0.44,>=0.43.0dev0 in /mnt/libraries/envs/cloudos/lib/python3.12/site-packages (from numba) (0.43.0)\n",
      "Requirement already satisfied: botocore<1.35.37,>=1.35.16 in /mnt/libraries/envs/cloudos/lib/python3.12/site-packages (from aiobotocore<3.0.0,>=2.5.4->s3fs) (1.35.36)\n",
      "Requirement already satisfied: wrapt<2.0.0,>=1.10.10 in /mnt/libraries/envs/cloudos/lib/python3.12/site-packages (from aiobotocore<3.0.0,>=2.5.4->s3fs) (1.16.0)\n",
      "Requirement already satisfied: aioitertools<1.0.0,>=0.5.1 in /mnt/libraries/envs/cloudos/lib/python3.12/site-packages (from aiobotocore<3.0.0,>=2.5.4->s3fs) (0.12.0)\n",
      "Requirement already satisfied: aiosignal>=1.1.2 in /mnt/libraries/envs/cloudos/lib/python3.12/site-packages (from aiohttp!=4.0.0a0,!=4.0.0a1->s3fs) (1.3.1)\n",
      "Requirement already satisfied: attrs>=17.3.0 in /mnt/libraries/envs/cloudos/lib/python3.12/site-packages (from aiohttp!=4.0.0a0,!=4.0.0a1->s3fs) (24.2.0)\n",
      "Requirement already satisfied: frozenlist>=1.1.1 in /mnt/libraries/envs/cloudos/lib/python3.12/site-packages (from aiohttp!=4.0.0a0,!=4.0.0a1->s3fs) (1.4.1)\n",
      "Requirement already satisfied: multidict<7.0,>=4.5 in /mnt/libraries/envs/cloudos/lib/python3.12/site-packages (from aiohttp!=4.0.0a0,!=4.0.0a1->s3fs) (6.1.0)\n",
      "Requirement already satisfied: yarl<2.0,>=1.0 in /mnt/libraries/envs/cloudos/lib/python3.12/site-packages (from aiohttp!=4.0.0a0,!=4.0.0a1->s3fs) (1.13.1)\n",
      "Requirement already satisfied: six>=1.5 in /mnt/libraries/envs/cloudos/lib/python3.12/site-packages (from python-dateutil>=2.8.2->pandas) (1.16.0)\n",
      "Requirement already satisfied: jmespath<2.0.0,>=0.7.1 in /mnt/libraries/envs/cloudos/lib/python3.12/site-packages (from botocore<1.35.37,>=1.35.16->aiobotocore<3.0.0,>=2.5.4->s3fs) (1.0.1)\n",
      "Requirement already satisfied: urllib3!=2.2.0,<3,>=1.25.4 in /mnt/libraries/envs/cloudos/lib/python3.12/site-packages (from botocore<1.35.37,>=1.35.16->aiobotocore<3.0.0,>=2.5.4->s3fs) (2.2.3)\n",
      "Requirement already satisfied: idna>=2.0 in /mnt/libraries/envs/cloudos/lib/python3.12/site-packages (from yarl<2.0,>=1.0->aiohttp!=4.0.0a0,!=4.0.0a1->s3fs) (3.10)\n"
     ]
    }
   ],
   "source": [
    "!pip install zarr s3fs tqdm pandas numba"
   ]
  },
  {
   "cell_type": "code",
   "execution_count": 6,
   "id": "bc0c79fb-c164-4595-b6d3-cc1fbed5b053",
   "metadata": {},
   "outputs": [
    {
     "data": {
      "text/plain": [
       "1"
      ]
     },
     "execution_count": 6,
     "metadata": {},
     "output_type": "execute_result"
    }
   ],
   "source": [
    "import zarr\n",
    "import pandas as pd\n",
    "import numpy as np\n",
    "import dataclasses\n",
    "import numba\n",
    "import zarr\n",
    "import numcodecs\n",
    "import s3fs\n",
    "\n",
    "numcodecs.blosc.set_nthreads(1)"
   ]
  },
  {
   "cell_type": "code",
   "execution_count": 7,
   "id": "e38cec85-0528-4004-bbc1-1a63c6765485",
   "metadata": {},
   "outputs": [],
   "source": [
    "S3PATH = \"lifebit-user-data-1f2bfdf2-1d99-488c-9b87-246c62b66ea7/GEL-256534/\"\n",
    "REGION_START, REGION_END = 58219159, 60650943"
   ]
  },
  {
   "cell_type": "code",
   "execution_count": 8,
   "id": "53f37331-b841-4eea-9b93-0acf01f846c8",
   "metadata": {},
   "outputs": [],
   "source": [
    "def load_s3(path):\n",
    "    s3 = s3fs.S3FileSystem(anon=False)\n",
    "    store = s3fs.S3Map(root=path, s3=s3)\n",
    "    return zarr.open(store, mode=\"r\")"
   ]
  },
  {
   "cell_type": "markdown",
   "id": "27590c94-f2e7-405f-b5f4-46bc8d5ecbce",
   "metadata": {},
   "source": [
    "## Task 1 - Dump POS"
   ]
  },
  {
   "cell_type": "code",
   "execution_count": 9,
   "id": "5064e7ae-b825-48dc-b394-f7fce1b5e185",
   "metadata": {},
   "outputs": [
    {
     "name": "stdout",
     "output_type": "stream",
     "text": [
      "CPU times: user 15 s, sys: 1.06 s, total: 16.1 s\n",
      "Wall time: 23.8 s\n"
     ]
    }
   ],
   "source": [
    "%%time\n",
    "root = load_s3(S3PATH)\n",
    "pos = root['variant_position'][:]\n",
    "start_index = np.searchsorted(pos, REGION_START, 'left')\n",
    "end_index = np.searchsorted(pos, REGION_END, 'right')\n",
    "region_pos = pos[start_index: end_index]\n",
    "df = pd.DataFrame(region_pos)\n",
    "df.to_csv(\"pos_result_vcfzarr.txt\")"
   ]
  },
  {
   "cell_type": "code",
   "execution_count": 10,
   "id": "ac4162a9-3ca7-4798-b20d-9995c4c66583",
   "metadata": {
    "scrolled": true
   },
   "outputs": [
    {
     "data": {
      "text/plain": [
       "(59880903, 562640)"
      ]
     },
     "execution_count": 10,
     "metadata": {},
     "output_type": "execute_result"
    }
   ],
   "source": [
    "len(pos), len(region_pos)"
   ]
  },
  {
   "cell_type": "markdown",
   "id": "a2346d9f-5269-4ae1-b615-8ff4d09f19c5",
   "metadata": {},
   "source": [
    "## Task 1b - Dump POS to RAM only"
   ]
  },
  {
   "cell_type": "code",
   "execution_count": 12,
   "id": "1d08ebe6-6391-4a16-af37-1b7486e38a3a",
   "metadata": {},
   "outputs": [
    {
     "name": "stdout",
     "output_type": "stream",
     "text": [
      "CPU times: user 13.9 s, sys: 733 ms, total: 14.6 s\n",
      "Wall time: 18.2 s\n"
     ]
    }
   ],
   "source": [
    "%%time\n",
    "root = load_s3(S3PATH)\n",
    "pos = root['variant_position'][:]\n",
    "start_index = np.searchsorted(pos, REGION_START, 'left')\n",
    "end_index = np.searchsorted(pos, REGION_END, 'right')\n",
    "region_pos = pos[start_index: end_index]"
   ]
  },
  {
   "cell_type": "markdown",
   "id": "73f21457-40f7-4911-ba34-623ecaea408f",
   "metadata": {},
   "source": [
    "## Task 2 - afdist"
   ]
  },
  {
   "cell_type": "code",
   "execution_count": 13,
   "id": "f49b271f-8a0f-4294-abdb-bb8192eee07e",
   "metadata": {},
   "outputs": [],
   "source": [
    "@dataclasses.dataclass\n",
    "class GenotypeCounts:\n",
    "    hom_ref: list\n",
    "    hom_alt: list\n",
    "    het: list\n",
    "    ref_count: list\n",
    "\n",
    "@numba.njit(\n",
    "    \"void(int64, int8[:,:,:], b1[:], b1[:], int32[:], int32[:], int32[:], int32[:])\"\n",
    ")\n",
    "def count_genotypes_chunk_subset(\n",
    "    offset, G, variant_mask, sample_mask, hom_ref, hom_alt, het, ref_count\n",
    "):\n",
    "    # NB Assuming diploids and no missing data!\n",
    "    index = offset\n",
    "    for j in range(G.shape[0]):\n",
    "        if variant_mask[j]:\n",
    "            for k in range(G.shape[1]):\n",
    "                if sample_mask[k]:\n",
    "                    a = G[j, k, 0]\n",
    "                    b = G[j, k, 1]\n",
    "                    if a == b:\n",
    "                        if a == 0:\n",
    "                            hom_ref[index] += 1\n",
    "                        else:\n",
    "                            hom_alt[index] += 1\n",
    "                    else:\n",
    "                        het[index] += 1\n",
    "                    ref_count[index] += (a == 0) + (b == 0)\n",
    "            index += 1\n",
    "\n",
    "def classify_genotypes_subset(call_genotype, variant_mask, sample_mask):\n",
    "    m = np.sum(variant_mask)\n",
    "\n",
    "    # Use zarr arrays to get mask chunks aligned with the main data\n",
    "    # for convenience.\n",
    "    z_variant_mask = zarr.array(variant_mask, chunks=call_genotype.chunks[0])\n",
    "    z_sample_mask = zarr.array(sample_mask, chunks=call_genotype.chunks[1])\n",
    "\n",
    "    het = np.zeros(m, dtype=np.int32)\n",
    "    hom_alt = np.zeros(m, dtype=np.int32)\n",
    "    hom_ref = np.zeros(m, dtype=np.int32)\n",
    "    ref_count = np.zeros(m, dtype=np.int32)\n",
    "    j = 0\n",
    "    # We should probably skip to the first non-zero chunk, but there probably\n",
    "    # isn't much difference unless we have a huge number of chunks, and we're\n",
    "    # only selecting a tiny subset\n",
    "    for v_chunk in range(call_genotype.cdata_shape[0]):\n",
    "        variant_mask_chunk = z_variant_mask.blocks[v_chunk]\n",
    "        count = np.sum(variant_mask_chunk)\n",
    "        if count > 0:\n",
    "            for s_chunk in range(call_genotype.cdata_shape[1]):\n",
    "                sample_mask_chunk = z_sample_mask.blocks[s_chunk]\n",
    "                if np.sum(sample_mask_chunk) > 0:\n",
    "                    G = call_genotype.blocks[v_chunk, s_chunk]\n",
    "                    count_genotypes_chunk_subset(\n",
    "                        j,\n",
    "                        G,\n",
    "                        variant_mask_chunk,\n",
    "                        sample_mask_chunk,\n",
    "                        hom_ref,\n",
    "                        hom_alt,\n",
    "                        het,\n",
    "                        ref_count,\n",
    "                    )\n",
    "            j += count\n",
    "    return GenotypeCounts(hom_ref, hom_alt, het, ref_count)\n",
    "    \n",
    "def zarr_afdist(path, num_bins=10, variant_slice=None, sample_slice=None):\n",
    "    root = load_s3(path)\n",
    "    call_genotype = root[\"call_genotype\"]\n",
    "    m = call_genotype.shape[0]\n",
    "    n = call_genotype.shape[1]\n",
    "\n",
    "    variant_mask = np.zeros(m, dtype=bool)\n",
    "    variant_mask[variant_slice] = 1\n",
    "    sample_mask = np.zeros(n, dtype=bool)\n",
    "    sample_mask[sample_slice] = 1\n",
    "    counts = classify_genotypes_subset(call_genotype, variant_mask, sample_mask)\n",
    "    n = np.sum(sample_mask)\n",
    "\n",
    "    alt_count = 2 * n - counts.ref_count\n",
    "    af = alt_count / (n * 2)\n",
    "    bins = np.linspace(0, 1.0, num_bins + 1)\n",
    "    bins[-1] += 0.0125\n",
    "    pRA = 2 * af * (1 - af)\n",
    "    pAA = af * af\n",
    "    a = np.bincount(np.digitize(pRA, bins), weights=counts.het, minlength=num_bins + 1)\n",
    "    b = np.bincount(\n",
    "        np.digitize(pAA, bins), weights=counts.hom_alt, minlength=num_bins + 1\n",
    "    )\n",
    "    count = (a + b).astype(int)\n",
    "\n",
    "    return pd.DataFrame({\"start\": bins[:-1], \"stop\": bins[1:], \"prob_dist\": count[1:]})"
   ]
  },
  {
   "cell_type": "code",
   "execution_count": 14,
   "id": "e8474f38-cad3-4e90-8b23-4e792d8909fc",
   "metadata": {},
   "outputs": [
    {
     "name": "stdout",
     "output_type": "stream",
     "text": [
      "CPU times: user 2min 42s, sys: 1.59 s, total: 2min 43s\n",
      "Wall time: 5min 14s\n"
     ]
    },
    {
     "data": {
      "text/html": [
       "<div>\n",
       "<style scoped>\n",
       "    .dataframe tbody tr th:only-of-type {\n",
       "        vertical-align: middle;\n",
       "    }\n",
       "\n",
       "    .dataframe tbody tr th {\n",
       "        vertical-align: top;\n",
       "    }\n",
       "\n",
       "    .dataframe thead th {\n",
       "        text-align: right;\n",
       "    }\n",
       "</style>\n",
       "<table border=\"1\" class=\"dataframe\">\n",
       "  <thead>\n",
       "    <tr style=\"text-align: right;\">\n",
       "      <th></th>\n",
       "      <th>start</th>\n",
       "      <th>stop</th>\n",
       "      <th>prob_dist</th>\n",
       "    </tr>\n",
       "  </thead>\n",
       "  <tbody>\n",
       "    <tr>\n",
       "      <th>0</th>\n",
       "      <td>0.0</td>\n",
       "      <td>0.1000</td>\n",
       "      <td>286405469</td>\n",
       "    </tr>\n",
       "    <tr>\n",
       "      <th>1</th>\n",
       "      <td>0.1</td>\n",
       "      <td>0.2000</td>\n",
       "      <td>137172734</td>\n",
       "    </tr>\n",
       "    <tr>\n",
       "      <th>2</th>\n",
       "      <td>0.2</td>\n",
       "      <td>0.3000</td>\n",
       "      <td>136385315</td>\n",
       "    </tr>\n",
       "    <tr>\n",
       "      <th>3</th>\n",
       "      <td>0.3</td>\n",
       "      <td>0.4000</td>\n",
       "      <td>158273300</td>\n",
       "    </tr>\n",
       "    <tr>\n",
       "      <th>4</th>\n",
       "      <td>0.4</td>\n",
       "      <td>0.5000</td>\n",
       "      <td>325497447</td>\n",
       "    </tr>\n",
       "    <tr>\n",
       "      <th>5</th>\n",
       "      <td>0.5</td>\n",
       "      <td>0.6000</td>\n",
       "      <td>42187173</td>\n",
       "    </tr>\n",
       "    <tr>\n",
       "      <th>6</th>\n",
       "      <td>0.6</td>\n",
       "      <td>0.7000</td>\n",
       "      <td>44968576</td>\n",
       "    </tr>\n",
       "    <tr>\n",
       "      <th>7</th>\n",
       "      <td>0.7</td>\n",
       "      <td>0.8000</td>\n",
       "      <td>37326793</td>\n",
       "    </tr>\n",
       "    <tr>\n",
       "      <th>8</th>\n",
       "      <td>0.8</td>\n",
       "      <td>0.9000</td>\n",
       "      <td>34890232</td>\n",
       "    </tr>\n",
       "    <tr>\n",
       "      <th>9</th>\n",
       "      <td>0.9</td>\n",
       "      <td>1.0125</td>\n",
       "      <td>44520767</td>\n",
       "    </tr>\n",
       "  </tbody>\n",
       "</table>\n",
       "</div>"
      ],
      "text/plain": [
       "   start    stop  prob_dist\n",
       "0    0.0  0.1000  286405469\n",
       "1    0.1  0.2000  137172734\n",
       "2    0.2  0.3000  136385315\n",
       "3    0.3  0.4000  158273300\n",
       "4    0.4  0.5000  325497447\n",
       "5    0.5  0.6000   42187173\n",
       "6    0.6  0.7000   44968576\n",
       "7    0.7  0.8000   37326793\n",
       "8    0.8  0.9000   34890232\n",
       "9    0.9  1.0125   44520767"
      ]
     },
     "execution_count": 14,
     "metadata": {},
     "output_type": "execute_result"
    }
   ],
   "source": [
    "%%time\n",
    "df = zarr_afdist(S3PATH, num_bins=10, variant_slice=slice(start_index, end_index))\n",
    "df"
   ]
  },
  {
   "cell_type": "markdown",
   "id": "0f508ca5-e06d-42cf-b2af-3a971ea92a84",
   "metadata": {},
   "source": [
    "## Task 3 - filtering on FORMAT fields"
   ]
  },
  {
   "cell_type": "code",
   "execution_count": 18,
   "id": "3dbdc99c-5f2e-497a-8721-c62dd13e51fb",
   "metadata": {},
   "outputs": [
    {
     "name": "stdout",
     "output_type": "stream",
     "text": [
      "CPU times: user 3min 3s, sys: 9.88 s, total: 3min 12s\n",
      "Wall time: 11min 9s\n"
     ]
    }
   ],
   "source": [
    "%%time\n",
    "root = load_s3(S3PATH)\n",
    "root_out = zarr.open(\"out.zarr\")\n",
    "DP = root['call_DP']\n",
    "GQ = root['call_GQ']\n",
    "num_variants = DP.shape[0]\n",
    "num_samples = DP.shape[1]\n",
    "variant_mask = np.zeros(num_variants, dtype=bool)\n",
    "variant_mask[slice(start_index, end_index)] = 1\n",
    "z_variant_mask = zarr.array(variant_mask, chunks=DP.chunks[0])\n",
    "output_mask = np.zeros(num_variants, dtype=bool)\n",
    "z_output_mask = zarr.array(output_mask, chunks=DP.chunks[0])\n",
    "\n",
    "for v_chunk in range(DP.cdata_shape[0]):\n",
    "    variant_mask_chunk = z_variant_mask.blocks[v_chunk]\n",
    "    count = np.sum(variant_mask_chunk)\n",
    "    if count > 0:\n",
    "        output_mask_chunk = np.zeros_like(variant_mask_chunk)\n",
    "        for s_chunk in range(DP.cdata_shape[1]):\n",
    "            output_mask_chunk = np.logical_or(\n",
    "                output_mask_chunk,\n",
    "                np.any(\n",
    "                    np.logical_and(\n",
    "                        DP.blocks[v_chunk, s_chunk]>10, \n",
    "                        GQ.blocks[v_chunk, s_chunk]>20\n",
    "                    ),\n",
    "                    axis=(1)\n",
    "                )\n",
    "            )\n",
    "        z_output_mask.blocks[v_chunk] = np.logical_and(output_mask_chunk, variant_mask_chunk)\n",
    "root_out['variant_composite_filter'] = z_output_mask   "
   ]
  },
  {
   "cell_type": "code",
   "execution_count": null,
   "id": "0c28d689-6f2e-4dfe-a73a-1173b3f8cba4",
   "metadata": {},
   "outputs": [],
   "source": []
  }
 ],
 "metadata": {
  "kernelspec": {
   "display_name": "Python (libraries-cloudos)",
   "language": "python",
   "name": "conda-env-libraries-cloudos-py"
  },
  "language_info": {
   "codemirror_mode": {
    "name": "ipython",
    "version": 3
   },
   "file_extension": ".py",
   "mimetype": "text/x-python",
   "name": "python",
   "nbconvert_exporter": "python",
   "pygments_lexer": "ipython3",
   "version": "3.12.6"
  }
 },
 "nbformat": 4,
 "nbformat_minor": 5
}
