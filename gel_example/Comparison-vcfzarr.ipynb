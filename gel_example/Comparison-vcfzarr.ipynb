{
 "cells": [
  {
   "cell_type": "markdown",
   "id": "1ee13b7b-9bff-4b5f-9690-dac04685356e",
   "metadata": {},
   "source": [
    "## Example tasks using vcfzarr\n",
    "\n",
    "Run on 2024-05-20 by Ben Jeffery"
   ]
  },
  {
   "cell_type": "code",
   "execution_count": 1,
   "id": "0706374a-8e59-450e-9a4b-a8418c2a4124",
   "metadata": {},
   "outputs": [
    {
     "data": {
      "text/plain": [
       "8"
      ]
     },
     "execution_count": 1,
     "metadata": {},
     "output_type": "execute_result"
    }
   ],
   "source": [
    "import zarr\n",
    "import pandas as pd\n",
    "import numpy as np\n",
    "import dataclasses\n",
    "import numba\n",
    "import zarr\n",
    "import numcodecs\n",
    "\n",
    "numcodecs.blosc.set_nthreads(1)"
   ]
  },
  {
   "cell_type": "code",
   "execution_count": 2,
   "id": "34aa6357-547f-40a6-8086-1c51968aab42",
   "metadata": {},
   "outputs": [],
   "source": [
    "VCFZARR = \"/home/bjeffery/re/messy_vcf/b2z/chr2_parallel_explode_009_3.zarr\"\n",
    "REGION_START, REGION_END = 58219159, 60650943"
   ]
  },
  {
   "cell_type": "markdown",
   "id": "c58a4f9d-3c1d-486c-bcc8-033a13674a57",
   "metadata": {},
   "source": [
    "### Task 1 - Dump POS"
   ]
  },
  {
   "cell_type": "code",
   "execution_count": 3,
   "id": "9cb80e19-d75e-4628-a4ba-e8d50d4efbed",
   "metadata": {},
   "outputs": [
    {
     "name": "stdout",
     "output_type": "stream",
     "text": [
      "CPU times: user 846 ms, sys: 1.93 s, total: 2.78 s\n",
      "Wall time: 1min 44s\n"
     ]
    }
   ],
   "source": [
    "%%time\n",
    "root = zarr.open(VCFZARR, mode=\"r\")\n",
    "pos = root['variant_position'][:]\n",
    "start_index = np.searchsorted(pos, REGION_START, 'left')\n",
    "end_index = np.searchsorted(pos, REGION_END, 'right')\n",
    "region_pos = pos[start_index: end_index]\n",
    "df = pd.DataFrame(region_pos)\n",
    "df.to_csv(\"pos_result_vcfzarr.txt\")"
   ]
  },
  {
   "cell_type": "code",
   "execution_count": 4,
   "id": "4da3cec9-938e-4cb6-80c9-1236d91a5dc8",
   "metadata": {},
   "outputs": [
    {
     "data": {
      "text/plain": [
       "(59880903, 562640)"
      ]
     },
     "execution_count": 4,
     "metadata": {},
     "output_type": "execute_result"
    }
   ],
   "source": [
    "len(pos), len(region_pos)"
   ]
  },
  {
   "cell_type": "markdown",
   "id": "d333b80e-a4f7-45f2-b4fa-8367a927946c",
   "metadata": {},
   "source": [
    "### Task 1b - Dump POS to RAM only"
   ]
  },
  {
   "cell_type": "code",
   "execution_count": 5,
   "id": "df7ef200-2a55-444c-bec2-3b0f8b9fc96c",
   "metadata": {},
   "outputs": [
    {
     "name": "stdout",
     "output_type": "stream",
     "text": [
      "CPU times: user 560 ms, sys: 572 ms, total: 1.13 s\n",
      "Wall time: 20.9 s\n"
     ]
    }
   ],
   "source": [
    "%%time\n",
    "root = zarr.open(VCFZARR, mode=\"r\")\n",
    "pos = root['variant_position'][:]\n",
    "start_index = np.searchsorted(pos, REGION_START, 'left')\n",
    "end_index = np.searchsorted(pos, REGION_END, 'right')\n",
    "region_pos = pos[start_index: end_index]"
   ]
  },
  {
   "cell_type": "markdown",
   "id": "1ae2451e-26ef-41fa-8801-f493b510376f",
   "metadata": {},
   "source": [
    "### Task 2 - afdist"
   ]
  },
  {
   "cell_type": "code",
   "execution_count": 14,
   "id": "d1ffe899-7319-42cc-9680-586dbfe3157d",
   "metadata": {},
   "outputs": [],
   "source": [
    "@dataclasses.dataclass\n",
    "class GenotypeCounts:\n",
    "    hom_ref: list\n",
    "    hom_alt: list\n",
    "    het: list\n",
    "    ref_count: list\n",
    "\n",
    "@numba.njit(\n",
    "    \"void(int64, int8[:,:,:], b1[:], b1[:], int32[:], int32[:], int32[:], int32[:])\"\n",
    ")\n",
    "def count_genotypes_chunk_subset(\n",
    "    offset, G, variant_mask, sample_mask, hom_ref, hom_alt, het, ref_count\n",
    "):\n",
    "    # NB Assuming diploids and no missing data!\n",
    "    index = offset\n",
    "    for j in range(G.shape[0]):\n",
    "        if variant_mask[j]:\n",
    "            for k in range(G.shape[1]):\n",
    "                if sample_mask[k]:\n",
    "                    a = G[j, k, 0]\n",
    "                    b = G[j, k, 1]\n",
    "                    if a == b:\n",
    "                        if a == 0:\n",
    "                            hom_ref[index] += 1\n",
    "                        else:\n",
    "                            hom_alt[index] += 1\n",
    "                    else:\n",
    "                        het[index] += 1\n",
    "                    ref_count[index] += (a == 0) + (b == 0)\n",
    "            index += 1\n",
    "\n",
    "def classify_genotypes_subset(call_genotype, variant_mask, sample_mask):\n",
    "    m = np.sum(variant_mask)\n",
    "\n",
    "    # Use zarr arrays to get mask chunks aligned with the main data\n",
    "    # for convenience.\n",
    "    z_variant_mask = zarr.array(variant_mask, chunks=call_genotype.chunks[0])\n",
    "    z_sample_mask = zarr.array(sample_mask, chunks=call_genotype.chunks[1])\n",
    "\n",
    "    het = np.zeros(m, dtype=np.int32)\n",
    "    hom_alt = np.zeros(m, dtype=np.int32)\n",
    "    hom_ref = np.zeros(m, dtype=np.int32)\n",
    "    ref_count = np.zeros(m, dtype=np.int32)\n",
    "    j = 0\n",
    "    # We should probably skip to the first non-zero chunk, but there probably\n",
    "    # isn't much difference unless we have a huge number of chunks, and we're\n",
    "    # only selecting a tiny subset\n",
    "    for v_chunk in range(call_genotype.cdata_shape[0]):\n",
    "        variant_mask_chunk = z_variant_mask.blocks[v_chunk]\n",
    "        count = np.sum(variant_mask_chunk)\n",
    "        if count > 0:\n",
    "            for s_chunk in range(call_genotype.cdata_shape[1]):\n",
    "                sample_mask_chunk = z_sample_mask.blocks[s_chunk]\n",
    "                if np.sum(sample_mask_chunk) > 0:\n",
    "                    G = call_genotype.blocks[v_chunk, s_chunk]\n",
    "                    count_genotypes_chunk_subset(\n",
    "                        j,\n",
    "                        G,\n",
    "                        variant_mask_chunk,\n",
    "                        sample_mask_chunk,\n",
    "                        hom_ref,\n",
    "                        hom_alt,\n",
    "                        het,\n",
    "                        ref_count,\n",
    "                    )\n",
    "            j += count\n",
    "    return GenotypeCounts(hom_ref, hom_alt, het, ref_count)\n",
    "    \n",
    "def zarr_afdist(path, num_bins=10, variant_slice=None, sample_slice=None):\n",
    "    root = zarr.open(path)\n",
    "    call_genotype = root[\"call_genotype\"]\n",
    "    m = call_genotype.shape[0]\n",
    "    n = call_genotype.shape[1]\n",
    "\n",
    "    variant_mask = np.zeros(m, dtype=bool)\n",
    "    variant_mask[variant_slice] = 1\n",
    "    sample_mask = np.zeros(n, dtype=bool)\n",
    "    sample_mask[sample_slice] = 1\n",
    "    counts = classify_genotypes_subset(call_genotype, variant_mask, sample_mask)\n",
    "    n = np.sum(sample_mask)\n",
    "\n",
    "    alt_count = 2 * n - counts.ref_count\n",
    "    af = alt_count / (n * 2)\n",
    "    bins = np.linspace(0, 1.0, num_bins + 1)\n",
    "    bins[-1] += 0.0125\n",
    "    pRA = 2 * af * (1 - af)\n",
    "    pAA = af * af\n",
    "    a = np.bincount(np.digitize(pRA, bins), weights=counts.het, minlength=num_bins + 1)\n",
    "    b = np.bincount(\n",
    "        np.digitize(pAA, bins), weights=counts.hom_alt, minlength=num_bins + 1\n",
    "    )\n",
    "    count = (a + b).astype(int)\n",
    "\n",
    "    return pd.DataFrame({\"start\": bins[:-1], \"stop\": bins[1:], \"prob_dist\": count[1:]})"
   ]
  },
  {
   "cell_type": "code",
   "execution_count": 15,
   "id": "3c573973-c12a-4452-9735-694b51af72d3",
   "metadata": {},
   "outputs": [
    {
     "name": "stdout",
     "output_type": "stream",
     "text": [
      "CPU times: user 2min 18s, sys: 693 ms, total: 2min 19s\n",
      "Wall time: 4min 15s\n"
     ]
    },
    {
     "data": {
      "text/html": [
       "<div>\n",
       "<style scoped>\n",
       "    .dataframe tbody tr th:only-of-type {\n",
       "        vertical-align: middle;\n",
       "    }\n",
       "\n",
       "    .dataframe tbody tr th {\n",
       "        vertical-align: top;\n",
       "    }\n",
       "\n",
       "    .dataframe thead th {\n",
       "        text-align: right;\n",
       "    }\n",
       "</style>\n",
       "<table border=\"1\" class=\"dataframe\">\n",
       "  <thead>\n",
       "    <tr style=\"text-align: right;\">\n",
       "      <th></th>\n",
       "      <th>start</th>\n",
       "      <th>stop</th>\n",
       "      <th>prob_dist</th>\n",
       "    </tr>\n",
       "  </thead>\n",
       "  <tbody>\n",
       "    <tr>\n",
       "      <th>0</th>\n",
       "      <td>0.0</td>\n",
       "      <td>0.1000</td>\n",
       "      <td>286405469</td>\n",
       "    </tr>\n",
       "    <tr>\n",
       "      <th>1</th>\n",
       "      <td>0.1</td>\n",
       "      <td>0.2000</td>\n",
       "      <td>137172734</td>\n",
       "    </tr>\n",
       "    <tr>\n",
       "      <th>2</th>\n",
       "      <td>0.2</td>\n",
       "      <td>0.3000</td>\n",
       "      <td>136385315</td>\n",
       "    </tr>\n",
       "    <tr>\n",
       "      <th>3</th>\n",
       "      <td>0.3</td>\n",
       "      <td>0.4000</td>\n",
       "      <td>158273300</td>\n",
       "    </tr>\n",
       "    <tr>\n",
       "      <th>4</th>\n",
       "      <td>0.4</td>\n",
       "      <td>0.5000</td>\n",
       "      <td>325497447</td>\n",
       "    </tr>\n",
       "    <tr>\n",
       "      <th>5</th>\n",
       "      <td>0.5</td>\n",
       "      <td>0.6000</td>\n",
       "      <td>42187173</td>\n",
       "    </tr>\n",
       "    <tr>\n",
       "      <th>6</th>\n",
       "      <td>0.6</td>\n",
       "      <td>0.7000</td>\n",
       "      <td>44968576</td>\n",
       "    </tr>\n",
       "    <tr>\n",
       "      <th>7</th>\n",
       "      <td>0.7</td>\n",
       "      <td>0.8000</td>\n",
       "      <td>37326793</td>\n",
       "    </tr>\n",
       "    <tr>\n",
       "      <th>8</th>\n",
       "      <td>0.8</td>\n",
       "      <td>0.9000</td>\n",
       "      <td>34890232</td>\n",
       "    </tr>\n",
       "    <tr>\n",
       "      <th>9</th>\n",
       "      <td>0.9</td>\n",
       "      <td>1.0125</td>\n",
       "      <td>44520767</td>\n",
       "    </tr>\n",
       "  </tbody>\n",
       "</table>\n",
       "</div>"
      ],
      "text/plain": [
       "   start    stop  prob_dist\n",
       "0    0.0  0.1000  286405469\n",
       "1    0.1  0.2000  137172734\n",
       "2    0.2  0.3000  136385315\n",
       "3    0.3  0.4000  158273300\n",
       "4    0.4  0.5000  325497447\n",
       "5    0.5  0.6000   42187173\n",
       "6    0.6  0.7000   44968576\n",
       "7    0.7  0.8000   37326793\n",
       "8    0.8  0.9000   34890232\n",
       "9    0.9  1.0125   44520767"
      ]
     },
     "execution_count": 15,
     "metadata": {},
     "output_type": "execute_result"
    }
   ],
   "source": [
    "%%time\n",
    "df = zarr_afdist(VCFZARR, num_bins=10, variant_slice=slice(start_index, end_index))\n",
    "df"
   ]
  },
  {
   "cell_type": "markdown",
   "id": "4894f882-5d46-490f-8b42-2d37a34bc11b",
   "metadata": {},
   "source": [
    "### Task 3 - filtering on FORMAT fields"
   ]
  },
  {
   "cell_type": "code",
   "execution_count": 16,
   "id": "95df1251-2aeb-4ede-9b3a-574d4ef0e062",
   "metadata": {},
   "outputs": [
    {
     "name": "stdout",
     "output_type": "stream",
     "text": [
      "CPU times: user 1min 53s, sys: 5.73 s, total: 1min 58s\n",
      "Wall time: 11min\n"
     ]
    }
   ],
   "source": [
    "%%time\n",
    "root = zarr.open(VCFZARR)\n",
    "DP = root['call_DP']\n",
    "GQ = root['call_GQ']\n",
    "num_variants = DP.shape[0]\n",
    "num_samples = DP.shape[1]\n",
    "variant_mask = np.zeros(num_variants, dtype=bool)\n",
    "variant_mask[slice(start_index, end_index)] = 1\n",
    "z_variant_mask = zarr.array(variant_mask, chunks=DP.chunks[0])\n",
    "output_mask = np.zeros(num_variants, dtype=bool)\n",
    "z_output_mask = zarr.array(output_mask, chunks=DP.chunks[0])\n",
    "\n",
    "for v_chunk in range(DP.cdata_shape[0]):\n",
    "    variant_mask_chunk = z_variant_mask.blocks[v_chunk]\n",
    "    count = np.sum(variant_mask_chunk)\n",
    "    if count > 0:\n",
    "        output_mask_chunk = np.zeros_like(variant_mask_chunk)\n",
    "        for s_chunk in range(DP.cdata_shape[1]):\n",
    "            output_mask_chunk = np.logical_or(\n",
    "                output_mask_chunk,\n",
    "                np.any(\n",
    "                    np.logical_and(\n",
    "                        DP.blocks[v_chunk, s_chunk]>10, \n",
    "                        GQ.blocks[v_chunk, s_chunk]>20\n",
    "                    ),\n",
    "                    axis=(1)\n",
    "                )\n",
    "            )\n",
    "        z_output_mask.blocks[v_chunk] = np.logical_and(output_mask_chunk, variant_mask_chunk)\n",
    "root['variant_composite_filter'] = z_output_mask    "
   ]
  },
  {
   "cell_type": "markdown",
   "id": "86bb102b-86fe-4a68-ba11-808838ff1ecc",
   "metadata": {},
   "source": [
    "### Consistency checks"
   ]
  },
  {
   "cell_type": "code",
   "execution_count": 9,
   "id": "592b1d88-8f1f-420a-bbd1-4e4539df9df6",
   "metadata": {},
   "outputs": [],
   "source": [
    "bcftools_pos_df = pd.read_csv('pos_result_bcftools.txt', header=None)"
   ]
  },
  {
   "cell_type": "code",
   "execution_count": 10,
   "id": "5224384d-24ae-4203-b679-6a559f65d7cc",
   "metadata": {},
   "outputs": [],
   "source": [
    "vcfzarr_pos_df = pd.read_csv('pos_result_vcfzarr.txt')"
   ]
  },
  {
   "cell_type": "code",
   "execution_count": 11,
   "id": "8a57beb8-82c7-4467-aa4c-f26b928f809c",
   "metadata": {},
   "outputs": [
    {
     "data": {
      "text/plain": [
       "True"
      ]
     },
     "execution_count": 11,
     "metadata": {},
     "output_type": "execute_result"
    }
   ],
   "source": [
    "np.array_equal(bcftools_pos_df.iloc[:,0].to_numpy(), vcfzarr_pos_df.iloc[:,1].to_numpy())"
   ]
  },
  {
   "cell_type": "code",
   "execution_count": 12,
   "id": "fdbec84b-809a-4e74-9c77-2a0525734ac8",
   "metadata": {},
   "outputs": [],
   "source": [
    "root = zarr.open(VCFZARR, mode=\"r\")"
   ]
  },
  {
   "cell_type": "code",
   "execution_count": 13,
   "id": "9c21ac9d-5e47-4520-8d8a-41a1761391ec",
   "metadata": {},
   "outputs": [
    {
     "data": {
      "text/plain": [
       "['call_AD',\n",
       " 'call_ADF',\n",
       " 'call_ADR',\n",
       " 'call_DP',\n",
       " 'call_DPF',\n",
       " 'call_FT',\n",
       " 'call_GQ',\n",
       " 'call_GQX',\n",
       " 'call_PL',\n",
       " 'call_PS',\n",
       " 'call_genotype',\n",
       " 'call_genotype_mask',\n",
       " 'call_genotype_phased',\n",
       " 'contig_id',\n",
       " 'contig_length',\n",
       " 'filter_id',\n",
       " 'sample_id',\n",
       " 'variant_ABratio',\n",
       " 'variant_AC',\n",
       " 'variant_AC_Hemi',\n",
       " 'variant_AC_Het',\n",
       " 'variant_AC_Hom',\n",
       " 'variant_AN',\n",
       " 'variant_MendelSite',\n",
       " 'variant_OLD_CLUMPED',\n",
       " 'variant_OLD_MULTIALLELIC',\n",
       " 'variant_allele',\n",
       " 'variant_completeGTRatio',\n",
       " 'variant_composite_filter',\n",
       " 'variant_contig',\n",
       " 'variant_filter',\n",
       " 'variant_id',\n",
       " 'variant_id_mask',\n",
       " 'variant_medianDepthAll',\n",
       " 'variant_medianDepthNonMiss',\n",
       " 'variant_medianGQ',\n",
       " 'variant_missingness',\n",
       " 'variant_phwe_afr',\n",
       " 'variant_phwe_amr',\n",
       " 'variant_phwe_eas',\n",
       " 'variant_phwe_eur',\n",
       " 'variant_phwe_sas',\n",
       " 'variant_position',\n",
       " 'variant_quality']"
      ]
     },
     "execution_count": 13,
     "metadata": {},
     "output_type": "execute_result"
    }
   ],
   "source": [
    "list(root.keys())"
   ]
  },
  {
   "cell_type": "code",
   "execution_count": null,
   "id": "bd35b298-ec42-4004-9226-f9dbe5730d9a",
   "metadata": {},
   "outputs": [],
   "source": []
  }
 ],
 "metadata": {
  "kernelspec": {
   "display_name": "Python 3 (ipykernel)",
   "language": "python",
   "name": "python3"
  },
  "language_info": {
   "codemirror_mode": {
    "name": "ipython",
    "version": 3
   },
   "file_extension": ".py",
   "mimetype": "text/x-python",
   "name": "python",
   "nbconvert_exporter": "python",
   "pygments_lexer": "ipython3",
   "version": "3.10.12"
  }
 },
 "nbformat": 4,
 "nbformat_minor": 5
}
