{
 "cells": [
  {
   "cell_type": "markdown",
   "id": "62e9a063-f0bf-4015-ae20-8a6f29e00897",
   "metadata": {},
   "source": [
    "## Download and decode tests"
   ]
  },
  {
   "cell_type": "markdown",
   "id": "9d86a3b3-6772-4cca-9837-443934dc9c11",
   "metadata": {},
   "source": [
    "### Instance type = c5.24xlarge"
   ]
  },
  {
   "cell_type": "code",
   "execution_count": 1,
   "id": "a4a97d60-cc07-4b23-a845-be147af7afc2",
   "metadata": {
    "collapsed": true,
    "jupyter": {
     "outputs_hidden": true
    },
    "scrolled": true
   },
   "outputs": [
    {
     "name": "stdout",
     "output_type": "stream",
     "text": [
      "Requirement already satisfied: boto3 in /mnt/libraries/envs/cloudos/lib/python3.12/site-packages (1.35.36)\n",
      "Requirement already satisfied: matplotlib in /mnt/libraries/envs/cloudos/lib/python3.12/site-packages (3.9.2)\n",
      "Requirement already satisfied: aioboto3 in /mnt/libraries/envs/cloudos/lib/python3.12/site-packages (13.2.0)\n",
      "Requirement already satisfied: aiobotocore in /mnt/libraries/envs/cloudos/lib/python3.12/site-packages (2.15.2)\n",
      "Requirement already satisfied: numcodecs in /mnt/libraries/envs/cloudos/lib/python3.12/site-packages (0.14.1)\n",
      "Requirement already satisfied: psutil in /mnt/libraries/envs/cloudos/lib/python3.12/site-packages (6.0.0)\n",
      "Requirement already satisfied: botocore<1.36.0,>=1.35.36 in /mnt/libraries/envs/cloudos/lib/python3.12/site-packages (from boto3) (1.35.36)\n",
      "Requirement already satisfied: jmespath<2.0.0,>=0.7.1 in /mnt/libraries/envs/cloudos/lib/python3.12/site-packages (from boto3) (1.0.1)\n",
      "Requirement already satisfied: s3transfer<0.11.0,>=0.10.0 in /mnt/libraries/envs/cloudos/lib/python3.12/site-packages (from boto3) (0.10.2)\n",
      "Requirement already satisfied: contourpy>=1.0.1 in /mnt/libraries/envs/cloudos/lib/python3.12/site-packages (from matplotlib) (1.3.0)\n",
      "Requirement already satisfied: cycler>=0.10 in /mnt/libraries/envs/cloudos/lib/python3.12/site-packages (from matplotlib) (0.12.1)\n",
      "Requirement already satisfied: fonttools>=4.22.0 in /mnt/libraries/envs/cloudos/lib/python3.12/site-packages (from matplotlib) (4.54.1)\n",
      "Requirement already satisfied: kiwisolver>=1.3.1 in /mnt/libraries/envs/cloudos/lib/python3.12/site-packages (from matplotlib) (1.4.7)\n",
      "Requirement already satisfied: numpy>=1.23 in /mnt/libraries/envs/cloudos/lib/python3.12/site-packages (from matplotlib) (2.0.2)\n",
      "Requirement already satisfied: packaging>=20.0 in /mnt/libraries/envs/cloudos/lib/python3.12/site-packages (from matplotlib) (24.1)\n",
      "Requirement already satisfied: pillow>=8 in /mnt/libraries/envs/cloudos/lib/python3.12/site-packages (from matplotlib) (10.4.0)\n",
      "Requirement already satisfied: pyparsing>=2.3.1 in /mnt/libraries/envs/cloudos/lib/python3.12/site-packages (from matplotlib) (3.1.4)\n",
      "Requirement already satisfied: python-dateutil>=2.7 in /mnt/libraries/envs/cloudos/lib/python3.12/site-packages (from matplotlib) (2.9.0)\n",
      "Requirement already satisfied: aiofiles>=23.2.1 in /mnt/libraries/envs/cloudos/lib/python3.12/site-packages (from aioboto3) (24.1.0)\n",
      "Requirement already satisfied: aiohttp<4.0.0,>=3.9.2 in /mnt/libraries/envs/cloudos/lib/python3.12/site-packages (from aiobotocore) (3.9.5)\n",
      "Requirement already satisfied: wrapt<2.0.0,>=1.10.10 in /mnt/libraries/envs/cloudos/lib/python3.12/site-packages (from aiobotocore) (1.17.0)\n",
      "Requirement already satisfied: aioitertools<1.0.0,>=0.5.1 in /mnt/libraries/envs/cloudos/lib/python3.12/site-packages (from aiobotocore) (0.12.0)\n",
      "Requirement already satisfied: aiosignal>=1.1.2 in /mnt/libraries/envs/cloudos/lib/python3.12/site-packages (from aiohttp<4.0.0,>=3.9.2->aiobotocore) (1.3.1)\n",
      "Requirement already satisfied: attrs>=17.3.0 in /mnt/libraries/envs/cloudos/lib/python3.12/site-packages (from aiohttp<4.0.0,>=3.9.2->aiobotocore) (24.2.0)\n",
      "Requirement already satisfied: frozenlist>=1.1.1 in /mnt/libraries/envs/cloudos/lib/python3.12/site-packages (from aiohttp<4.0.0,>=3.9.2->aiobotocore) (1.4.1)\n",
      "Requirement already satisfied: multidict<7.0,>=4.5 in /mnt/libraries/envs/cloudos/lib/python3.12/site-packages (from aiohttp<4.0.0,>=3.9.2->aiobotocore) (6.1.0)\n",
      "Requirement already satisfied: yarl<2.0,>=1.0 in /mnt/libraries/envs/cloudos/lib/python3.12/site-packages (from aiohttp<4.0.0,>=3.9.2->aiobotocore) (1.13.1)\n",
      "Requirement already satisfied: urllib3!=2.2.0,<3,>=1.25.4 in /mnt/libraries/envs/cloudos/lib/python3.12/site-packages (from botocore<1.36.0,>=1.35.36->boto3) (2.2.3)\n",
      "Requirement already satisfied: six>=1.5 in /mnt/libraries/envs/cloudos/lib/python3.12/site-packages (from python-dateutil>=2.7->matplotlib) (1.16.0)\n",
      "Requirement already satisfied: idna>=2.0 in /mnt/libraries/envs/cloudos/lib/python3.12/site-packages (from yarl<2.0,>=1.0->aiohttp<4.0.0,>=3.9.2->aiobotocore) (3.10)\n"
     ]
    }
   ],
   "source": [
    "!pip install boto3 matplotlib aioboto3 aiobotocore numcodecs psutil\n",
    "import boto3\n",
    "import aioboto3\n",
    "from botocore.config import Config\n",
    "import matplotlib.pyplot as plt\n",
    "import time\n",
    "from concurrent.futures import ThreadPoolExecutor\n",
    "import os\n",
    "import platform\n",
    "import psutil\n",
    "from datetime import datetime"
   ]
  },
  {
   "cell_type": "code",
   "execution_count": 2,
   "id": "615dbb57-0224-431e-932e-c496377dd9d6",
   "metadata": {
    "jupyter": {
     "source_hidden": true
    }
   },
   "outputs": [
    {
     "name": "stdout",
     "output_type": "stream",
     "text": [
      "\n",
      "=== System Information Analysis ===\n",
      "Timestamp: 2024-12-05 14:18:53\n",
      "\n",
      "--- CPU Details ---\n",
      "CPU Model: Intel(R) Xeon(R) Platinum 8275CL CPU @ 3.00GHz\n",
      "CPU Cores: 48 (Physical), 96 (Logical)\n",
      "CPU Frequency: 2883.48MHz\n",
      "CPU Usage: 2.7%\n",
      "\n",
      "--- Memory Details ---\n",
      "Total RAM: 184.86GB\n",
      "Available RAM: 177.22GB\n",
      "Used RAM: 6.26GB (4.1%)\n"
     ]
    }
   ],
   "source": [
    "\n",
    "def get_size(bytes):\n",
    "    \"\"\"\n",
    "    Convert bytes to human readable format\n",
    "    \"\"\"\n",
    "    for unit in ['', 'K', 'M', 'G', 'T', 'P']:\n",
    "        if bytes < 1024:\n",
    "            return f\"{bytes:.2f}{unit}B\"\n",
    "        bytes /= 1024\n",
    "        \n",
    "def get_cpu_info():\n",
    "    \"\"\"\n",
    "    Extract CPU information from /proc/cpuinfo\n",
    "    \"\"\"\n",
    "    cpu_info = {}\n",
    "    try:\n",
    "        with open('/proc/cpuinfo', 'r') as f:\n",
    "            lines = f.readlines()\n",
    "            for line in lines:\n",
    "                if line.strip():\n",
    "                    key, value = line.split(':', 1)\n",
    "                    cpu_info[key.strip()] = value.strip()\n",
    "    except Exception as e:\n",
    "        return f\"Error reading CPU info: {str(e)}\"\n",
    "    \n",
    "    return cpu_info\n",
    "def print_system_info():\n",
    "    print(\"\\n=== System Information Analysis ===\")\n",
    "    print(f\"Timestamp: {datetime.now().strftime('%Y-%m-%d %H:%M:%S')}\")\n",
    "    \n",
    "    # CPU Information\n",
    "    cpu_info = get_cpu_info()\n",
    "    print(\"\\n--- CPU Details ---\")\n",
    "    print(f\"CPU Model: {cpu_info.get('model name', 'Unknown')}\")\n",
    "    print(f\"CPU Cores: {psutil.cpu_count(logical=False)} (Physical), {psutil.cpu_count()} (Logical)\")\n",
    "    print(f\"CPU Frequency: {psutil.cpu_freq().current:.2f}MHz\")\n",
    "    print(f\"CPU Usage: {psutil.cpu_percent()}%\")\n",
    "\n",
    "    # Memory Information\n",
    "    memory = psutil.virtual_memory()\n",
    "    print(\"\\n--- Memory Details ---\")\n",
    "    print(f\"Total RAM: {get_size(memory.total)}\")\n",
    "    print(f\"Available RAM: {get_size(memory.available)}\")\n",
    "    print(f\"Used RAM: {get_size(memory.used)} ({memory.percent}%)\")\n",
    "print_system_info()"
   ]
  },
  {
   "cell_type": "code",
   "execution_count": 3,
   "id": "defaabbd-4471-4b9c-a45f-0c96a2703b5d",
   "metadata": {},
   "outputs": [],
   "source": [
    "s3_client = boto3.client('s3', config=Config(max_pool_connections=512))"
   ]
  },
  {
   "cell_type": "code",
   "execution_count": 4,
   "id": "c12823b2-a534-4007-9972-3609ccdf0e8e",
   "metadata": {},
   "outputs": [],
   "source": [
    "bucket=\"lifebit-user-data-1f2bfdf2-1d99-488c-9b87-246c62b66ea7\""
   ]
  },
  {
   "cell_type": "code",
   "execution_count": 5,
   "id": "6b6826df-3462-43b3-aee2-7e28ae893612",
   "metadata": {},
   "outputs": [],
   "source": [
    "keys = [f\"GEL-256534/call_genotype/{i}/{j}/0\" for i in range(4000) for j in range(16)]"
   ]
  },
  {
   "cell_type": "code",
   "execution_count": 6,
   "id": "b3b54cf6-5a99-4bcd-bba7-59b5e19635f3",
   "metadata": {},
   "outputs": [
    {
     "data": {
      "text/plain": [
       "1"
      ]
     },
     "execution_count": 6,
     "metadata": {},
     "output_type": "execute_result"
    }
   ],
   "source": [
    "from numcodecs.blosc import Blosc\n",
    "from numcodecs import blosc\n",
    "blosc.init()\n",
    "blosc.set_nthreads(1)\n",
    "#Need to call this twice, not sure why!\n",
    "blosc.set_nthreads(1)"
   ]
  },
  {
   "cell_type": "markdown",
   "id": "39f094b3-9f0f-40a6-bc57-54f8f76bd5f2",
   "metadata": {},
   "source": [
    "## Each process is given a batch of chunks to fetch, then async fecthes in it's main thread before handing over to decode in a set of threads as the chunks come in."
   ]
  },
  {
   "cell_type": "code",
   "execution_count": 7,
   "id": "c27edc15-aaaa-408f-b957-679534a14abb",
   "metadata": {},
   "outputs": [],
   "source": [
    "import asyncio\n",
    "import aioboto3\n",
    "import multiprocessing as mp\n",
    "from collections import defaultdict\n",
    "import time\n",
    "import os\n",
    "from typing import List, Dict\n",
    "import statistics\n",
    "from dataclasses import dataclass\n",
    "from concurrent.futures import ProcessPoolExecutor\n",
    "\n",
    "@dataclass\n",
    "class BatchStats:\n",
    "    process_id: int\n",
    "    start_time: float\n",
    "    total_bytes: int\n",
    "    data_bytes: int\n",
    "    files_completed: int\n",
    "    duration: float = None\n",
    "    \n",
    "class S3BulkFetcher:\n",
    "    def __init__(self, bucket: str, keys: List[str], num_processes: int = None, batch_size: int = 500, decode_threads=8):\n",
    "        self.bucket = bucket\n",
    "        self.keys = keys\n",
    "        self.num_processes = num_processes or mp.cpu_count()\n",
    "        self.batch_size = batch_size\n",
    "        self.work_queue = mp.Queue()\n",
    "        self.stats_queue = mp.Queue()\n",
    "        self.decode_threads = decode_threads\n",
    "        \n",
    "    def prepare_batches(self):\n",
    "        batches = [\n",
    "            self.keys[i:i+self.batch_size] \n",
    "            for i in range(0, len(self.keys), self.batch_size)\n",
    "        ]\n",
    "        for batch in batches:\n",
    "            self.work_queue.put(batch)\n",
    "            \n",
    "        for _ in range(self.num_processes):\n",
    "            self.work_queue.put(None)\n",
    "    \n",
    "    async def process_batch(self, batch: List[str], session, decoder, thread_pool) -> BatchStats:\n",
    "        stats = BatchStats(\n",
    "            process_id=os.getpid(),\n",
    "            start_time=time.time(),\n",
    "            total_bytes=0,\n",
    "            data_bytes=0,\n",
    "            files_completed=0\n",
    "        )\n",
    "        \n",
    "        async with session.client('s3') as s3:\n",
    "            async def fetch_single(key: str):\n",
    "                response = await s3.get_object(Bucket=self.bucket, Key=key)\n",
    "                raw_data = await response['Body'].read()\n",
    "                return raw_data\n",
    "            loop = asyncio.get_running_loop()\n",
    "\n",
    "            def decode(raw_data):\n",
    "                return len(decoder.decode(raw_data))\n",
    "            \n",
    "            decompression_tasks = []\n",
    "            for raw_data in asyncio.as_completed(\n",
    "                [fetch_single(key) for key in batch]\n",
    "            ):\n",
    "                raw_data = await raw_data\n",
    "                \n",
    "                decompression_future = loop.run_in_executor(\n",
    "                    thread_pool,\n",
    "                    decode,\n",
    "                    raw_data\n",
    "                )\n",
    "                decompression_tasks.append((len(raw_data), decompression_future))\n",
    "            for len_raw_data, decompression_future in decompression_tasks:\n",
    "                len_data = await decompression_future\n",
    "                stats.total_bytes += len_raw_data\n",
    "                stats.data_bytes += len_data\n",
    "                stats.files_completed += 1                \n",
    "                    \n",
    "        stats.duration = time.time() - stats.start_time\n",
    "        return stats\n",
    "    \n",
    "    async def worker_loop(self):\n",
    "        session = aioboto3.Session()\n",
    "        decoder = Blosc.from_config({'cname': 'zstd', 'clevel': 7, 'shuffle': 2, 'blocksize': 0})\n",
    "        thread_pool = ThreadPoolExecutor(max_workers=self.decode_threads)\n",
    "        while True:\n",
    "            batch = self.work_queue.get()\n",
    "            if batch is None:  # sentinel value\n",
    "                break\n",
    "                \n",
    "            stats = await self.process_batch(batch, session, decoder, thread_pool)\n",
    "            self.stats_queue.put(stats)\n",
    "        thread_pool.shutdown(wait=True)\n",
    "\n",
    "    def worker_process(self):\n",
    "        asyncio.run(self.worker_loop())\n",
    "\n",
    "    def print_final_stats(self, all_stats: List[BatchStats], wall_time: float):\n",
    "        total_bytes = sum(s.total_bytes for s in all_stats)\n",
    "        total_data = sum(s.data_bytes for s in all_stats)\n",
    "        total_files = sum(s.files_completed for s in all_stats)\n",
    "        \n",
    "        process_stats = defaultdict(lambda: {'bytes': 0, 'data':0, 'files': 0, 'batches': 0})\n",
    "        for stat in all_stats:\n",
    "            process_stats[stat.process_id]['bytes'] += stat.total_bytes\n",
    "            process_stats[stat.process_id]['data'] += stat.data_bytes\n",
    "            process_stats[stat.process_id]['files'] += stat.files_completed\n",
    "            process_stats[stat.process_id]['batches'] += 1\n",
    "\n",
    "        batch_times = [s.duration for s in all_stats]\n",
    "        \n",
    "        # print(\"\\n=== S3 Bulk Download Statistics ===\")\n",
    "        # print(f\"\\nOverall Performance:\")\n",
    "        # print(f\"Total transfer: {total_bytes / 1000 / 1000:.2f} MB in {total_files} files\")\n",
    "        # print(f\"Total data: {total_data / 1000 / 1000:.2f} MB in {total_files} chnnks\")\n",
    "        # print(f\"Duration: {wall_time:.2f} seconds\")\n",
    "        # print(f\"Throughput: {(total_bytes / 1000 / 1000) / wall_time:.2f} MB/s, \"\n",
    "        #      f\"{total_files / wall_time:.1f} files/s\")\n",
    "        # print(f\"Data Throughput: {(total_data / 1000 / 1000) / wall_time:.2f} MB/s, \"\n",
    "        #      f\"{total_files / wall_time:.1f} chunks/s\")\n",
    "        \n",
    "        # print(\"\\nBatch Statistics:\")\n",
    "        # print(f\"Batch times - min: {min(batch_times):.2f}s, \"\n",
    "        #      f\"max: {max(batch_times):.2f}s, \"\n",
    "        #      f\"avg: {statistics.mean(batch_times):.2f}s\")\n",
    "        \n",
    "        # print(\"\\nPer-Process Performance:\")\n",
    "        # for pid, stats in process_stats.items():\n",
    "        #    print(f\"Process {pid}:\")\n",
    "        #    print(f\"  Throughput: {(stats['bytes'] / 1000 / 1000) / wall_time:.2f} MB/s, \"\n",
    "        #          f\"{stats['files'] / wall_time:.1f} files/s\")\n",
    "        #    print(f\"  Data Throughput: {(stats['data'] / 1000 / 1000) / wall_time:.2f} MB/s, \"\n",
    "        #          f\"{stats['files'] / wall_time:.1f} chunks/s\")\n",
    "        #    print(f\"  Processed: {stats['files']} files in {stats['batches']} batches\")\n",
    "\n",
    "    def run(self):\n",
    "        start_time = time.time()\n",
    "        \n",
    "        # Prepare work batches\n",
    "        self.prepare_batches()\n",
    "        \n",
    "        # Start worker processes\n",
    "        processes = []\n",
    "        for _ in range(self.num_processes):\n",
    "            p = mp.Process(target=self.worker_process)\n",
    "            p.start()\n",
    "            processes.append(p)\n",
    "            \n",
    "        # Collect all stats\n",
    "        all_stats = []\n",
    "        stats_to_collect = len([b for b in self.keys[::self.batch_size]])\n",
    "        \n",
    "        while len(all_stats) < stats_to_collect:\n",
    "            stats = self.stats_queue.get()\n",
    "            all_stats.append(stats)\n",
    "            \n",
    "            # Optional: Print progress\n",
    "            #if len(all_stats) % 10 == 0:\n",
    "            #    print(f\"Progress: {len(all_stats)}/{stats_to_collect} batches complete\")\n",
    "        \n",
    "        # Wait for all processes to complete\n",
    "        for p in processes:\n",
    "            p.join()\n",
    "            \n",
    "        wall_time = time.time() - start_time\n",
    "        \n",
    "        # Print final statistics\n",
    "        self.print_final_stats(all_stats, wall_time)\n",
    "        \n",
    "        return all_stats\n",
    "\n"
   ]
  },
  {
   "cell_type": "code",
   "execution_count": 8,
   "id": "57c5c40a-f67b-4daf-aaff-21bbc40d53b1",
   "metadata": {},
   "outputs": [],
   "source": [
    "import math \n",
    "\n",
    "def run_scaling_benchmark(\n",
    "    fetcher_class,\n",
    "    bucket,\n",
    "    keys,\n",
    "    batch_size,\n",
    "    min_processes,\n",
    "    max_processes,\n",
    "    max_decode_threads\n",
    "):\n",
    "    process_counts = []\n",
    "    throughputs = []\n",
    "    data_throughputs = []\n",
    "    \n",
    "    n_proc = min_processes\n",
    "    \n",
    "    while n_proc <= max_processes:\n",
    "        n_decode_threads = min(math.ceil(96/n_proc), max_decode_threads)\n",
    "        print(f\"\\nTesting with {n_proc} processes with {n_decode_threads} threads each...\")\n",
    "        fetcher = fetcher_class(\n",
    "            bucket=bucket,\n",
    "            keys=keys[:n_proc*batch_size*32],\n",
    "            num_processes=n_proc,\n",
    "            batch_size=batch_size,\n",
    "            decode_threads=n_decode_threads\n",
    "        )\n",
    "        \n",
    "        start_time = time.time()\n",
    "        stats = fetcher.run()\n",
    "        duration = time.time() - start_time\n",
    "        \n",
    "        total_bytes = sum(s.total_bytes for s in stats)\n",
    "        throughput = (total_bytes / 1000 / 1000) / duration  # MB/s\n",
    "        total_data = sum(s.data_bytes for s in stats)\n",
    "        data_throughput = (total_data / 1000 / 1000) / duration  # MB/s\n",
    "        \n",
    "        process_counts.append(n_proc)\n",
    "        throughputs.append(throughput)\n",
    "        data_throughputs.append(data_throughput)\n",
    "        \n",
    "        print(f\"Throughput with {n_proc} processes: {throughput:.2f} MB/s\")\n",
    "        print(f\"Data Throughput with {n_proc} processes: {data_throughput:.2f} MB/s\")\n",
    "        \n",
    "        n_proc *= 2\n",
    "        \n",
    "    return process_counts, throughputs, data_throughputs\n",
    "\n",
    "def plot_scaling(process_counts, throughputs, data_throughputs, title= \"S3 Throughput Scaling\"):\n",
    "    plt.figure(figsize=(10, 6))\n",
    "    # plt.plot(process_counts, throughputs, 'bo-', linewidth=2, markersize=8)\n",
    "    plt.plot(process_counts, data_throughputs, 'bo-', linewidth=2, markersize=8)\n",
    "    \n",
    "    plt.xscale('log', base=2)\n",
    "    plt.grid(True, which=\"both\", ls=\"-\", alpha=0.2)\n",
    "    \n",
    "    plt.xlabel(\"Number of Processes\")\n",
    "    plt.ylabel(\"Decompressed Throughput (MB/s)\")\n",
    "    plt.title(title)\n",
    "    \n",
    "    plt.legend()\n",
    "    plt.tight_layout()\n"
   ]
  },
  {
   "cell_type": "markdown",
   "id": "c6b6210a-5c88-447f-a676-9f9ac4a2993e",
   "metadata": {},
   "source": [
    "## Firstly let's test with one decode thread per process"
   ]
  },
  {
   "cell_type": "code",
   "execution_count": 9,
   "id": "859d7ff2-6bbf-4c22-b85f-203cf234f3a9",
   "metadata": {},
   "outputs": [
    {
     "name": "stdout",
     "output_type": "stream",
     "text": [
      "\n",
      "Testing with 1 processes with 1 threads each...\n",
      "Throughput with 1 processes: 4.29 MB/s\n",
      "Data Throughput with 1 processes: 1447.61 MB/s\n",
      "\n",
      "Testing with 2 processes with 1 threads each...\n",
      "Throughput with 2 processes: 7.85 MB/s\n",
      "Data Throughput with 2 processes: 2887.64 MB/s\n",
      "\n",
      "Testing with 4 processes with 1 threads each...\n",
      "Throughput with 4 processes: 13.41 MB/s\n",
      "Data Throughput with 4 processes: 5335.05 MB/s\n",
      "\n",
      "Testing with 8 processes with 1 threads each...\n",
      "Throughput with 8 processes: 26.12 MB/s\n",
      "Data Throughput with 8 processes: 10979.57 MB/s\n",
      "\n",
      "Testing with 16 processes with 1 threads each...\n",
      "Throughput with 16 processes: 56.09 MB/s\n",
      "Data Throughput with 16 processes: 22007.83 MB/s\n",
      "\n",
      "Testing with 32 processes with 1 threads each...\n",
      "Throughput with 32 processes: 100.52 MB/s\n",
      "Data Throughput with 32 processes: 40043.31 MB/s\n",
      "\n",
      "Testing with 64 processes with 1 threads each...\n",
      "Throughput with 64 processes: 123.81 MB/s\n",
      "Data Throughput with 64 processes: 49322.39 MB/s\n",
      "\n",
      "Testing with 128 processes with 1 threads each...\n",
      "Throughput with 128 processes: 111.60 MB/s\n",
      "Data Throughput with 128 processes: 44457.64 MB/s\n",
      "[1, 2, 4, 8, 16, 32, 64, 128] [4.28921847098684, 7.847742805707371, 13.405007465661049, 26.119768975960206, 56.087844447202535, 100.51916418444925, 123.81209644730076, 111.60028468257295] [1447.609635649998, 2887.6439893795423, 5335.052037264073, 10979.569067422046, 22007.83420299784, 40043.3066951233, 49322.39330510122, 44457.63614396118]\n"
     ]
    },
    {
     "name": "stderr",
     "output_type": "stream",
     "text": [
      "/tmp/ipykernel_11467/2020954492.py:61: UserWarning: No artists with labels found to put in legend.  Note that artists whose label start with an underscore are ignored when legend() is called with no argument.\n",
      "  plt.legend()\n"
     ]
    },
    {
     "data": {
      "image/png": "[encoded data removed]",
      "text/plain": [
       "<Figure size 1000x600 with 1 Axes>"
      ]
     },
     "metadata": {},
     "output_type": "display_data"
    }
   ],
   "source": [
    "process_counts, throughputs, data_throughputs = run_scaling_benchmark(\n",
    "        S3BulkFetcher,\n",
    "        bucket=bucket,\n",
    "        keys=keys,\n",
    "        batch_size=100,\n",
    "        min_processes=1,\n",
    "        max_processes=128,\n",
    "        max_decode_threads=1\n",
    "    )\n",
    "print(process_counts, throughputs, data_throughputs)\n",
    "plot_scaling(process_counts, throughputs, data_throughputs)"
   ]
  },
  {
   "cell_type": "markdown",
   "id": "6c368bac-0cb0-4e18-adb6-dd6539c297ea",
   "metadata": {},
   "source": [
    "## This time split the logical cores up for each process to use in the decode threads."
   ]
  },
  {
   "cell_type": "code",
   "execution_count": 10,
   "id": "6a832f63-20fe-45e5-a4ff-796354a48f31",
   "metadata": {},
   "outputs": [
    {
     "name": "stdout",
     "output_type": "stream",
     "text": [
      "\n",
      "Testing with 1 processes with 96 threads each...\n",
      "Throughput with 1 processes: 12.23 MB/s\n",
      "Data Throughput with 1 processes: 4126.58 MB/s\n",
      "\n",
      "Testing with 2 processes with 48 threads each...\n",
      "Throughput with 2 processes: 21.45 MB/s\n",
      "Data Throughput with 2 processes: 7891.25 MB/s\n",
      "\n",
      "Testing with 4 processes with 24 threads each...\n",
      "Throughput with 4 processes: 38.23 MB/s\n",
      "Data Throughput with 4 processes: 15214.57 MB/s\n",
      "\n",
      "Testing with 8 processes with 12 threads each...\n",
      "Throughput with 8 processes: 64.50 MB/s\n",
      "Data Throughput with 8 processes: 27113.45 MB/s\n",
      "\n",
      "Testing with 16 processes with 6 threads each...\n",
      "Throughput with 16 processes: 107.62 MB/s\n",
      "Data Throughput with 16 processes: 42226.29 MB/s\n",
      "\n",
      "Testing with 32 processes with 3 threads each...\n",
      "Throughput with 32 processes: 121.38 MB/s\n",
      "Data Throughput with 32 processes: 48352.93 MB/s\n",
      "\n",
      "Testing with 64 processes with 2 threads each...\n",
      "Throughput with 64 processes: 112.93 MB/s\n",
      "Data Throughput with 64 processes: 44985.76 MB/s\n",
      "\n",
      "Testing with 128 processes with 1 threads each...\n",
      "Throughput with 128 processes: 57.80 MB/s\n",
      "Data Throughput with 128 processes: 23025.26 MB/s\n",
      "[1, 2, 4, 8, 16, 32, 64, 128] [12.226925625402655, 21.44602556709697, 38.228582022131334, 64.50134108129426, 107.61539754958793, 121.37848888574759, 112.92600160839193, 57.799412397824305] [4126.582842406832, 7891.2482682115005, 15214.573727119587, 27113.44537523356, 42226.29431213875, 48352.92947446263, 44985.755233312884, 23025.257086270623]\n"
     ]
    },
    {
     "name": "stderr",
     "output_type": "stream",
     "text": [
      "/tmp/ipykernel_11467/2020954492.py:61: UserWarning: No artists with labels found to put in legend.  Note that artists whose label start with an underscore are ignored when legend() is called with no argument.\n",
      "  plt.legend()\n"
     ]
    },
    {
     "data": {
      "image/png": "[encoded data removed]",
      "text/plain": [
       "<Figure size 1000x600 with 1 Axes>"
      ]
     },
     "metadata": {},
     "output_type": "display_data"
    }
   ],
   "source": [
    "process_counts, throughputs, data_throughputs = run_scaling_benchmark(\n",
    "        S3BulkFetcher,\n",
    "        bucket=bucket,\n",
    "        keys=keys,\n",
    "        batch_size=100,\n",
    "        min_processes=1,\n",
    "        max_processes=128,\n",
    "        max_decode_threads=1000\n",
    "    )\n",
    "print(process_counts, throughputs, data_throughputs)\n",
    "plot_scaling(process_counts, throughputs, data_throughputs)"
   ]
  },
  {
   "cell_type": "code",
   "execution_count": null,
   "id": "29538bf3-551f-4ecf-bb1b-ec0f175a818f",
   "metadata": {},
   "outputs": [],
   "source": []
  }
 ],
 "metadata": {
  "kernelspec": {
   "display_name": "Python (libraries-cloudos)",
   "language": "python",
   "name": "conda-env-libraries-cloudos-py"
  },
  "language_info": {
   "codemirror_mode": {
    "name": "ipython",
    "version": 3
   },
   "file_extension": ".py",
   "mimetype": "text/x-python",
   "name": "python",
   "nbconvert_exporter": "python",
   "pygments_lexer": "ipython3",
   "version": "3.12.6"
  }
 },
 "nbformat": 4,
 "nbformat_minor": 5
}
