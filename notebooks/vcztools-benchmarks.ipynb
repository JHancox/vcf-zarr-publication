{
 "cells": [
  {
   "cell_type": "code",
   "execution_count": 5,
   "id": "12185803-1c59-4c82-9f61-21d05914d2f1",
   "metadata": {},
   "outputs": [],
   "source": [
    "import humanfriendly\n",
    "\n",
    "def d(n):\n",
    "    return humanfriendly.format_size(n, binary=True)"
   ]
  },
  {
   "cell_type": "markdown",
   "id": "a2d72ffa-ed91-44d6-a8a7-1e6cdaf1cefc",
   "metadata": {},
   "source": [
    "# Running benchmarks for vcztools\n",
    "\n",
    "Compare time to get POS field from BCF\n",
    "```\n",
    "jk@holly$ time bcftools query -f '%POS\\n' chr21_10_5.bcf > tmp/pos2.txt\n",
    "\n",
    "real    8m57.929s\n",
    "user    8m53.253s\n",
    "sys     0m4.230s\n",
    "```\n",
    "\n",
    "```\n",
    "jk@holly$ time vcztools query -f '%POS\\n' chr21_10_5.zarr > tmp/pos.txt\n",
    "\n",
    "real    0m51.453s\n",
    "user    0m51.809s\n",
    "sys     0m2.781s\n",
    "```\n",
    "\n",
    "Check they're identical:\n",
    "```\n",
    "jk@holly$ diff tmp/pos2.txt tmp/pos.txt\n",
    "```\n",
    "\n",
    "How many variants do we have?\n",
    "```\n",
    "jk@holly$ wc -l tmp/pos.txt\n",
    "2365367 tmp/pos.txt\n",
    "```\n",
    "\n",
    "Get the position of the last n - 10000 variant:\n",
    "```\n",
    "\n",
    "$ tail -n 10000 tmp/pos.txt | head -n 1\n",
    "47958263\n",
    "```"
   ]
  },
  {
   "cell_type": "code",
   "execution_count": null,
   "id": "cfcaf50d-cb04-4a7e-9c62-be0d819a6635",
   "metadata": {},
   "outputs": [],
   "source": []
  },
  {
   "cell_type": "markdown",
   "id": "0808da29-db77-499b-8e82-c4254a9d2313",
   "metadata": {},
   "source": [
    "```\n",
    "$ time bcftools view chr21_10_5.bcf -r1:47958263- | wc -c\n",
    "4001339854\n",
    "\n",
    "real    0m24.998s\n",
    "user    0m23.388s\n",
    "sys     0m2.814s\n",
    "```\n",
    "\n",
    "```\n",
    "jk@holly$ time bcftools view chr21_10_5.vcf.gz -r1:47958263- | wc -c\n",
    "4001339730\n",
    "\n",
    "real    1m2.770s\n",
    "user    1m0.978s\n",
    "sys     0m2.580s\n",
    "```"
   ]
  },
  {
   "cell_type": "code",
   "execution_count": 3,
   "id": "744a9cd7-e6de-4919-898e-c384e8fc0dfd",
   "metadata": {},
   "outputs": [
    {
     "data": {
      "text/plain": [
       "'152.64 MiB'"
      ]
     },
     "execution_count": 3,
     "metadata": {},
     "output_type": "execute_result"
    }
   ],
   "source": [
    "d(4001339854 / 25)"
   ]
  },
  {
   "cell_type": "code",
   "execution_count": 7,
   "id": "40608b82-d30d-4573-99f5-0c45ee0380ce",
   "metadata": {},
   "outputs": [
    {
     "data": {
      "text/plain": [
       "'60.57 MiB'"
      ]
     },
     "execution_count": 7,
     "metadata": {},
     "output_type": "execute_result"
    }
   ],
   "source": [
    "d(4001339730 / 63)"
   ]
  },
  {
   "cell_type": "markdown",
   "id": "84aac350-0ac3-4f95-8412-b221c4ffdc76",
   "metadata": {},
   "source": [
    "We get a data rate of 152 MiB/s from BCF vs 60 from VCF"
   ]
  },
  {
   "cell_type": "markdown",
   "id": "b772fa21-29b9-4573-9fb1-6dadbd5e05d6",
   "metadata": {},
   "source": [
    "```\n",
    "$ time vcztools view chr21_10_5.zarr -r1:47958263- | wc -c\n",
    "4001339815\n",
    "\n",
    "real    0m30.685s\n",
    "user    0m33.794s\n",
    "sys     0m7.438s\n",
    "```\n"
   ]
  },
  {
   "cell_type": "code",
   "execution_count": 10,
   "id": "30d19b53-d1d6-4680-9665-211bfc68c88f",
   "metadata": {},
   "outputs": [
    {
     "data": {
      "text/plain": [
       "'124.3 MiB'"
      ]
     },
     "execution_count": 10,
     "metadata": {},
     "output_type": "execute_result"
    }
   ],
   "source": [
    "d(4001339815 / 30.7)"
   ]
  },
  {
   "cell_type": "code",
   "execution_count": 8,
   "id": "718e7fae-136d-414e-866f-51f2b470d5f5",
   "metadata": {},
   "outputs": [
    {
     "data": {
      "text/plain": [
       "'87.6 MiB'"
      ]
     },
     "execution_count": 8,
     "metadata": {},
     "output_type": "execute_result"
    }
   ],
   "source": [
    "d(4001339730 / 43.56)"
   ]
  },
  {
   "cell_type": "markdown",
   "id": "96082337-5710-4a49-b306-df369633c7f9",
   "metadata": {},
   "source": [
    "It's useful to know what the rate at which VCF can be parsed is, so we wrote a simple program that does this using htslib. On the subset of VCF that we have here, we get\n",
    "\n",
    "```\n",
    "$ time ../software/vcf_parse/vcf_parse data/tmp/subset.vcf \n",
    "Reading VCF data/tmp/subset.vcf\n",
    "read = 10000 records\n",
    "\n",
    "real    0m31.015s\n",
    "user    0m30.281s\n",
    "sys     0m0.724s\n",
    "```\n",
    "Size is\n",
    "```\n",
    "$ ls data/tmp/subset.vcf -l\n",
    "-rw-r--r-- 1 jk jk 4001339730 Jan 23 12:45 data/tmp/subset.vcf\n",
    "```\n"
   ]
  },
  {
   "cell_type": "code",
   "execution_count": 11,
   "id": "8dd1e40b-82c5-4e69-8a48-3075e88c5fb4",
   "metadata": {},
   "outputs": [
    {
     "data": {
      "text/plain": [
       "'123.1 MiB'"
      ]
     },
     "execution_count": 11,
     "metadata": {},
     "output_type": "execute_result"
    }
   ],
   "source": [
    "d(4001339730 / 31)"
   ]
  },
  {
   "cell_type": "markdown",
   "id": "f719010b-619e-4619-a9c7-53f059d39c26",
   "metadata": {},
   "source": [
    "As it happens, this is almost identical to the rate output by vcztools here."
   ]
  },
  {
   "cell_type": "code",
   "execution_count": 13,
   "id": "56206e1e-f023-45e1-b3a5-7bfcf1574260",
   "metadata": {},
   "outputs": [
    {
     "data": {
      "text/plain": [
       "'3.73 GiB'"
      ]
     },
     "execution_count": 13,
     "metadata": {},
     "output_type": "execute_result"
    }
   ],
   "source": [
    "d(4001339730)"
   ]
  }
 ],
 "metadata": {
  "kernelspec": {
   "display_name": "Python 3 (ipykernel)",
   "language": "python",
   "name": "python3"
  },
  "language_info": {
   "codemirror_mode": {
    "name": "ipython",
    "version": 3
   },
   "file_extension": ".py",
   "mimetype": "text/x-python",
   "name": "python",
   "nbconvert_exporter": "python",
   "pygments_lexer": "ipython3",
   "version": "3.10.12"
  }
 },
 "nbformat": 4,
 "nbformat_minor": 5
}
